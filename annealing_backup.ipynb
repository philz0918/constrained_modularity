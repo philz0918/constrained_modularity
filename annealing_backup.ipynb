{
 "cells": [
  {
   "cell_type": "code",
   "execution_count": 14,
   "metadata": {},
   "outputs": [],
   "source": [
    "## read the file (.pairs)"
   ]
  },
  {
   "cell_type": "code",
   "execution_count": 1,
   "metadata": {},
   "outputs": [],
   "source": [
    "import numpy.random as random\n",
    "import numpy as np\n",
    "import math\n",
    "import networkx as nx\n",
    "from scipy import sparse as sp\n",
    "import random"
   ]
  },
  {
   "cell_type": "code",
   "execution_count": 149,
   "metadata": {},
   "outputs": [],
   "source": [
    "\n",
    "## need to fix something\n",
    "\n",
    "\n",
    "def read_pairs_file(pairfile) :\n",
    "    \n",
    "    file = open(pairfile, \"r\")\n",
    "    \n",
    "    edges = []\n",
    "    weights = []\n",
    "    \n",
    "    for line in file :\n",
    "        nodes = line.split()\n",
    "        edges.append((nodes[0], nodes[1]))\n",
    "        \n",
    "        #weight\n",
    "        if len(nodes) == 3 :\n",
    "            weights.append(float(nodes[2]))\n",
    "        else :\n",
    "            weights.append(1.0)\n",
    "    file.close()\n",
    "    \n",
    "    pair_dict = {}\n",
    "    t_num = 0 \n",
    "    \n",
    "    for edge in edges :\n",
    "        if edge[0] not in pair_dict :\n",
    "            pair_dict[edge[0]] = t_num\n",
    "            t_num +=1\n",
    "        if edge[1] not in pair_dict :\n",
    "            pair_dict[edge[1]] = t_num\n",
    "            t_num +=1\n",
    "    \n",
    "    \n",
    "    adj =[]\n",
    "    \n",
    "    adj.extend([[pair_dict[edge[0]],pair_dict[edge[1]]] for edge in edges])\n",
    "    adj.extend([[pair_dict[edge[1]],pair_dict[edge[0]]] for edge in edges])\n",
    "    \n",
    "    print(adj)\n",
    "    adj = np.array(adj).transpose()\n",
    "    \n",
    "    weights.extend(weights)\n",
    "    w_mat = np.array(weights)\n",
    "    \n",
    "    n = t_num  # number of nodes\n",
    "    #print(n)\n",
    "    #print(w_mat)\n",
    "    #print(adj)\n",
    "    \n",
    "    A_mat = sp.csr_matrix((w_mat,adj), shape = (n,n))\n",
    "    \n",
    "    # number of nodes \n",
    "    n_A = A_mat\n",
    "    sumit  = A_mat.sum()\n",
    "    m = (sumit/2) # number of edge\n",
    "    return n,n_A ,m\n",
    "\n",
    "## we need network\n",
    "\n",
    "##read from matrix file\n",
    "\n",
    "def read_adj_file(adjfile) :\n",
    "    #read matrix file \n",
    "    \n",
    "    file = open(adjfile, 'r')\n",
    "    cols = file.readline().split()\n",
    "    \n",
    "    #number of nodes\n",
    "    n = len(cols)\n",
    "   \n",
    "    #generanate NXN matrix\n",
    "    mat = sp.lil_matrix((n, n))\n",
    "    \n",
    "    \n",
    "    #splited first row \n",
    "    for idx in range(n):\n",
    "        \n",
    "        weight = float(cols[idx])\n",
    "        if weight != 0 :\n",
    "            mat[0,idx] = weight\n",
    "    \n",
    "    #rest of matrix \n",
    "    \n",
    "    r = 1\n",
    "    for line in file :\n",
    "        rows= line.split()\n",
    "        for idx in range(n) :\n",
    "            weight = float(rows[idx])\n",
    "            if weight !=0  :\n",
    "                mat[r,idx] = weight\n",
    "            \n",
    "        r +=1\n",
    "        \n",
    "    mat = (mat +matrix.T)/2\n",
    "    \n",
    "    #number of edges\n",
    "    \n",
    "    \n",
    "    file.close()\n",
    "    \n",
    "    m = (mat.sum())/2\n",
    "    \n",
    "    return n, mat, m\n",
    "        "
   ]
  },
  {
   "cell_type": "code",
   "execution_count": 154,
   "metadata": {},
   "outputs": [],
   "source": [
    "n, n_A, m=read_adj_file(\"karate.txt\")"
   ]
  },
  {
   "cell_type": "code",
   "execution_count": 155,
   "metadata": {},
   "outputs": [
    {
     "data": {
      "text/plain": [
       "array([[0., 1., 1., ..., 1., 0., 0.],\n",
       "       [1., 0., 1., ..., 0., 0., 0.],\n",
       "       [1., 1., 0., ..., 0., 1., 0.],\n",
       "       ...,\n",
       "       [1., 0., 0., ..., 0., 1., 1.],\n",
       "       [0., 0., 1., ..., 1., 0., 1.],\n",
       "       [0., 0., 0., ..., 1., 1., 0.]])"
      ]
     },
     "execution_count": 155,
     "metadata": {},
     "output_type": "execute_result"
    }
   ],
   "source": [
    "n_A.toarray()"
   ]
  },
  {
   "cell_type": "code",
   "execution_count": 93,
   "metadata": {},
   "outputs": [],
   "source": [
    "#n is number of elements, cn, constrainumber\n",
    "def initial_grouping(n, cn):\n",
    "\n",
    "    #get list of nodes\n",
    "    nodes = [node for node in range(0,n)]\n",
    "    \n",
    "    #assign group number to each nodes\n",
    "    group_assign = [random.randrange(0,cn) for g_num in range(len(nodes))]\n",
    "    \n",
    "    return nodes, group_assign\n",
    "\n",
    "#partition is group-assigned list\n",
    "def partition_matrix(partition) :\n",
    "    n = len(partition)\n",
    "    data= np.ones(n)\n",
    "    #print(data)\n",
    "    ij = np.array([partition, list(range(0,n))])\n",
    "    #print(ij)\n",
    "    grouping_matrix = sp.csr_matrix((data,ij))\n",
    "    return grouping_matrix\n",
    "\n",
    "# s = partition matrix, k = degree matrix , m = number of edge \n",
    "\n",
    "#generating degree matrix \n",
    "def degree_matrix(adj) :\n",
    "    d_mat = n_A.sum(axis=1)\n",
    "    return d_mat\n",
    "\n",
    "#calculate modularity\n",
    "def get_modularity(adj, s, k, m):\n",
    "    \n",
    "    # formula modularity = (Adj * p_matrix - (d_matrix)^2 * p_matrix/2m) / 2m \n",
    "    \n",
    "    adj_partition  = (s* adj *s.transpose()).diagonal().sum()\n",
    "    deg_par = np.array(s*k)\n",
    "    degree_partition = np.square(deg_par).sum()/(2*m) \n",
    "    \n",
    "    #modularity\n",
    "    Q = (adj_partition - degree_partition) /(2*m)\n",
    "    \n",
    "    return Q\n",
    "\n",
    "def patching(group_list, cn) :\n",
    "    \n",
    "    n_nodes =len(group_list)\n",
    "    #cn is constrained number of groups\n",
    "    n_groups = cn\n",
    "    #get index and value that want to change\n",
    "    \n",
    "    idx = random.choice([x for x in range(0, n_nodes)])\n",
    "    val = group_list[idx]\n",
    "    \n",
    "    n_val = random.choice([y for y in range(0, n_groups) if y != val])\n",
    "    \n",
    "    group_list[idx] = n_val\n",
    "    patched_group = group_list\n",
    "    \n",
    "    return patched_group\n",
    "\n",
    "\n",
    "\n",
    "def annealing_simulating(initial_temp, adj,n, cn,  s, k, m, cooling_constant, iteration) :\n",
    "    \n",
    "    svg_group_list = []\n",
    "    modul_list = []\n",
    "    old_Q = None\n",
    "    group_list = None\n",
    "    for i in range(iteration) :\n",
    "        \n",
    "        temp = new_temp(cooling_constant, initial_temp, i)\n",
    "        acceptance = False \n",
    "        num_rejection = -1\n",
    "        #n numberof nodes, cn constrained number of groups\n",
    "        rej_threshold = cal_rej_thres(n,cn)\n",
    "        #print(rej_threshold)\n",
    "        \n",
    "        while acceptance is False :\n",
    "            \n",
    "            num_rejection +=1\n",
    "            #print(old_Q)\n",
    "            \n",
    "            #when the very first\n",
    "            if old_Q is None :\n",
    "                node_list , group_list = initial_grouping(n,cn)\n",
    "                s = partition_matrix(group_list)\n",
    "                old_Q = get_modularity(adj, s, k, m)\n",
    "                \n",
    "            \n",
    "            # patching new grouping list\n",
    "            new_grouping = patching(group_list, cn)\n",
    "            #print(new_grouping)\n",
    "            \n",
    "            # new grouping matrix\n",
    "            new_s = partition_matrix(new_grouping)\n",
    "            \n",
    "            # new modularity with new grouping matrix\n",
    "            new_Q = get_modularity(adj,new_s,k,m)\n",
    "            #print(new_Q)\n",
    "            \n",
    "            acceptance = check_acceptance(old_Q, new_Q, temp)\n",
    "            \n",
    "            #print(acceptance)\n",
    "            #print(num_rejection)\n",
    "            if num_rejection > rej_threshold:\n",
    "                break\n",
    "            \n",
    "            \n",
    "            if acceptance is True :\n",
    "                \n",
    "                #if new_grouping in svg_group_list :\n",
    "                    #acceptance = False\n",
    "                #else :\n",
    "                svg_group_list.append(new_grouping)\n",
    "                modul_list.append(new_Q)\n",
    "                #print(modul_list[-1])\n",
    "                old_Q = new_Q\n",
    "                group_list = new_grouping\n",
    "                \n",
    "    opt = max(modul_list)\n",
    "    idx_opt = modul_list.index(opt)\n",
    "    \n",
    "    opt_group = svg_group_list[idx_opt]\n",
    "    \n",
    "    opt_grouping = svg_format(opt_group) \n",
    "    opt_Q = opt\n",
    "    \n",
    "    return opt_grouping, opt_Q, svg_group_list, modul_list\n",
    "            \n",
    "\n",
    "\n",
    "# get updated temperature\n",
    "def new_temp(cooling_constant, prev_temp, times) :\n",
    "    new_temp = (math.pow(cooling_constant,times)) * prev_temp\n",
    "    return new_temp \n",
    "\n",
    "# check acceptance between old groups and new groups\n",
    "def check_acceptance(modul_old, modul_new  , temp) :\n",
    "    if modul_new > modul_old :\n",
    "        return True\n",
    "    else :\n",
    "        new_accept = math.exp((modul_new - modul_old) * temp)\n",
    "        #modul_new- modul_old is negative value\n",
    "        # when temp is higher , new_accept is getting smaller \n",
    "    return (np.random.random_sample() < new_accept)  #get true or false\n",
    "\n",
    "\n",
    "\n",
    "#calculate rejection threshold \n",
    "\n",
    "def cal_rej_thres(n, nc):\n",
    "    \n",
    "    num_pathing = n*nc\n",
    "    \n",
    "    num_of_moves = num_pathing\n",
    "    \n",
    "    confi = 1 - math.log(0.05)/math.log(num_of_moves)\n",
    "    \n",
    "    return confi *num_of_moves * math.log(num_of_moves)\n",
    "\n",
    "#saving format for check group easily \n",
    "\n",
    "def svg_format(group_list):\n",
    "    fin_set ={}\n",
    "    for idx, gnum in enumerate(group_list):\n",
    "        if gnum in fin_set :\n",
    "            fin_set[gnum].append(idx)\n",
    "        else :\n",
    "            fin_set[gnum] =[idx]\n",
    "    return fin_set\n",
    "\n"
   ]
  },
  {
   "cell_type": "code",
   "execution_count": 97,
   "metadata": {},
   "outputs": [
    {
     "name": "stdout",
     "output_type": "stream",
     "text": [
      "[[0, 1], [0, 2], [0, 3], [0, 4], [0, 5], [0, 6], [0, 7], [0, 8], [0, 9], [0, 10], [0, 11], [0, 12], [0, 13], [0, 14], [0, 15], [0, 16], [1, 2], [1, 3], [1, 7], [1, 12], [1, 13], [1, 14], [1, 15], [1, 17], [2, 3], [2, 7], [2, 8], [2, 18], [2, 12], [2, 19], [2, 20], [2, 21], [3, 7], [3, 11], [3, 12], [4, 6], [4, 9], [5, 6], [5, 9], [5, 22], [6, 22], [8, 17], [8, 21], [8, 23], [18, 23], [12, 23], [24, 21], [24, 23], [25, 21], [25, 23], [26, 21], [26, 23], [14, 23], [27, 21], [27, 23], [28, 21], [28, 23], [29, 30], [29, 19], [29, 31], [29, 21], [29, 23], [32, 30], [32, 19], [32, 16], [30, 16], [33, 31], [33, 23], [19, 23], [20, 16], [20, 23], [31, 21], [31, 23], [17, 21], [17, 23], [16, 21], [16, 23], [21, 23], [1, 0], [2, 0], [3, 0], [4, 0], [5, 0], [6, 0], [7, 0], [8, 0], [9, 0], [10, 0], [11, 0], [12, 0], [13, 0], [14, 0], [15, 0], [16, 0], [2, 1], [3, 1], [7, 1], [12, 1], [13, 1], [14, 1], [15, 1], [17, 1], [3, 2], [7, 2], [8, 2], [18, 2], [12, 2], [19, 2], [20, 2], [21, 2], [7, 3], [11, 3], [12, 3], [6, 4], [9, 4], [6, 5], [9, 5], [22, 5], [22, 6], [17, 8], [21, 8], [23, 8], [23, 18], [23, 12], [21, 24], [23, 24], [21, 25], [23, 25], [21, 26], [23, 26], [23, 14], [21, 27], [23, 27], [21, 28], [23, 28], [30, 29], [19, 29], [31, 29], [21, 29], [23, 29], [30, 32], [19, 32], [16, 32], [16, 30], [31, 33], [23, 33], [23, 19], [16, 20], [23, 20], [21, 31], [23, 31], [21, 17], [23, 17], [21, 16], [23, 16], [23, 21]]\n",
      "-0.05530900723208413\n",
      "-0.04939184746877054\n",
      "-0.05530900723208413\n",
      "-0.03879026955950037\n",
      "-0.03879026955950037\n",
      "-0.038461538461538464\n",
      "-0.03879026955950037\n",
      "-0.027695595003287294\n",
      "-0.02966798159105849\n",
      "-0.05202169625246547\n",
      "-0.03879026955950037\n",
      "-0.014135437212360285\n",
      "-0.01282051282051282\n",
      "-0.027695595003287294\n",
      "-0.02966798159105849\n",
      "0.015696909927679113\n",
      "0.026627218934911285\n",
      "0.030243261012491765\n",
      "0.04922748191978963\n",
      "0.021614069690992794\n",
      "-0.027695595003287294\n",
      "-0.05136423405654174\n",
      "-0.05136423405654174\n",
      "-0.06541748849441156\n",
      "-0.05530900723208413\n",
      "-0.05530900723208413\n",
      "-0.0362426035502959\n",
      "-0.043474687705456955\n",
      "-0.05136423405654174\n",
      "-0.045693622616699514\n",
      "0.024901380670611453\n",
      "0.02358645627876399\n",
      "0.025558842866535186\n",
      "0.03550295857988162\n",
      "0.033201840894148606\n",
      "-0.009944115713346528\n",
      "-0.01388888888888892\n",
      "0.007149901380670598\n",
      "0.011752136752136723\n",
      "0.021614069690992794\n",
      "-0.05136423405654174\n",
      "-0.014135437212360285\n",
      "-0.018080210387902678\n",
      "-0.013149243918474732\n",
      "-0.013149243918474732\n",
      "-0.041420118343195304\n",
      "-0.06541748849441156\n",
      "-0.06443129520052601\n",
      "-0.05202169625246547\n",
      "-0.0641025641025641\n",
      "-0.06706114398422094\n",
      "-0.039447731755424105\n",
      "-0.03385930309007234\n",
      "-0.039447731755424105\n",
      "-0.06508875739644975\n",
      "-0.041420118343195304\n",
      "-0.026380670611439828\n",
      "-0.01282051282051282\n",
      "-0.014135437212360285\n",
      "-0.041420118343195304\n",
      "-0.018080210387902678\n",
      "-0.01388888888888892\n",
      "0.04725509533201844\n",
      "0.07618343195266274\n",
      "0.07486850756081527\n",
      "-0.018080210387902678\n",
      "0.011505588428665356\n",
      "0.030243261012491765\n",
      "0.063034188034188\n",
      "0.05843195266272188\n",
      "0.09853714661406972\n",
      "0.0641025641025641\n",
      "0.0637738330046022\n",
      "0.050542406311637096\n",
      "-0.013149243918474732\n",
      "-8.218277449045512e-05\n",
      "0.0009861932938856437\n",
      "0.011834319526627177\n",
      "0.02753122945430638\n",
      "0.025558842866535186\n",
      "0.03344838921761997\n",
      "0.05119986850756083\n",
      "0.06114398422090726\n",
      "0.037146614069691\n",
      "0.021614069690992794\n",
      "0.030243261012491765\n",
      "0.004602235371466124\n",
      "0.0009861932938856437\n",
      "-0.0032873109796186604\n",
      "-0.01388888888888892\n",
      "-0.014135437212360285\n",
      "0.0009861932938856437\n",
      "0.009861932938855981\n",
      "0.018984220907297865\n",
      "0.06278763971071664\n",
      "0.07684089414858647\n",
      "0.04306377383300459\n",
      "0.037475345167652815\n",
      "0.05687047994740305\n",
      "0.06706114398422094\n",
      "0.04265285996055231\n",
      "-0.010601577909270259\n",
      "-0.010601577909270259\n",
      "0.01282051282051282\n",
      "-0.0007396449704141872\n",
      "0.02358645627876399\n",
      "0.030243261012491765\n",
      "0.05226824457593693\n",
      "0.055884286653517405\n",
      "0.03122945430637741\n",
      "0.015039447731755381\n",
      "0.041337935568704756\n",
      "0.058842866535174246\n",
      "0.05226824457593693\n",
      "0.04799474030243262\n",
      "0.09261998685075604\n",
      "0.1406969099276791\n",
      "0.11406969099276792\n",
      "0.11242603550295854\n",
      "0.1024819197896121\n",
      "0.1024819197896121\n",
      "0.11242603550295854\n",
      "0.09261998685075604\n",
      "0.02235371466140698\n",
      "0.0009861932938856437\n",
      "0.0009861932938856437\n",
      "0.02235371466140698\n",
      "0.033201840894148606\n",
      "0.0637738330046022\n",
      "0.08842866535174228\n",
      "0.0637738330046022\n",
      "0.06114398422090726\n",
      "-0.008875739644970428\n",
      "-0.025969756738987552\n",
      "-0.017094017094017123\n",
      "-0.01388888888888892\n",
      "-0.025723208415516095\n",
      "-0.001314924391847464\n",
      "0.001890203813280741\n",
      "-0.02966798159105849\n",
      "-0.02966798159105849\n",
      "-0.046679815910585155\n",
      "-0.02465483234714\n",
      "0.007560815253122964\n",
      "-8.218277449045512e-05\n",
      "-0.006656804733727775\n",
      "-0.0032873109796186604\n",
      "0.017422748191978945\n",
      "-0.0032873109796186604\n",
      "0.004602235371466124\n",
      "0.007560815253122964\n",
      "0.004602235371466124\n",
      "-0.01388888888888892\n",
      "-0.018491124260355044\n",
      "-0.01388888888888892\n",
      "-0.006656804733727775\n",
      "-0.02966798159105849\n",
      "-0.021038790269559515\n",
      "-0.01388888888888892\n",
      "0.007149901380670598\n",
      "0.02753122945430638\n",
      "0.02235371466140698\n",
      "0.011752136752136723\n",
      "-0.018491124260355044\n",
      "-0.018491124260355044\n",
      "0.0009861932938856437\n",
      "0.02235371466140698\n",
      "0.011505588428665356\n",
      "0.02358645627876399\n",
      "0.044625246548323505\n",
      "0.06697896120973039\n",
      "0.042406311637080855\n",
      "0.033201840894148606\n",
      "-0.001314924391847464\n",
      "0.026627218934911285\n",
      "0.04725509533201844\n",
      "0.01282051282051282\n",
      "0.018984220907297865\n",
      "0.015696909927679113\n",
      "0.037393162393162364\n",
      "0.06278763971071664\n",
      "0.063034188034188\n",
      "0.04068047337278102\n",
      "-0.018491124260355044\n",
      "-0.018491124260355044\n",
      "-0.03977646285338592\n",
      "-0.043721236028928315\n",
      "-0.021038790269559515\n",
      "-0.026380670611439828\n",
      "0.017422748191978945\n",
      "0.021614069690992794\n",
      "0.030243261012491765\n",
      "0.009861932938855981\n",
      "0.011505588428665356\n",
      "0.033201840894148606\n",
      "0.058842866535174246\n",
      "0.055884286653517405\n",
      "0.041337935568704756\n",
      "0.02235371466140698\n",
      "0.007560815253122964\n",
      "0.004602235371466124\n",
      "0.021614069690992794\n",
      "0.04922748191978963\n",
      "0.033201840894148606\n",
      "0.02358645627876399\n",
      "0.025558842866535186\n",
      "0.050542406311637096\n",
      "0.06697896120973039\n",
      "0.09590729783037479\n",
      "0.07618343195266274\n",
      "0.07618343195266274\n",
      "0.05119986850756083\n",
      "0.03813280736357655\n",
      "0.09853714661406972\n",
      "0.10050953320184092\n",
      "0.13280736357659434\n",
      "0.11431623931623928\n",
      "0.1653517422748192\n",
      "0.18704799474030245\n",
      "0.18934911242603547\n",
      "0.16099605522682445\n",
      "0.18137738330046022\n",
      "0.13806706114398418\n",
      "0.14718934911242607\n",
      "0.13806706114398418\n",
      "0.13971071663379356\n",
      "0.15844838921761997\n",
      "0.04068047337278102\n",
      "0.044625246548323505\n",
      "0.04725509533201844\n",
      "0.011505588428665356\n",
      "0.007560815253122964\n",
      "0.007560815253122964\n",
      "-0.014135437212360285\n",
      "-0.025723208415516095\n",
      "0.009861932938855981\n",
      "0.02235371466140698\n",
      "0.007149901380670598\n",
      "0.017422748191978945\n",
      "0.02235371466140698\n",
      "0.037393162393162364\n",
      "0.037393162393162364\n",
      "0.007149901380670598\n",
      "0.024326101249178177\n",
      "0.037475345167652815\n",
      "0.05843195266272188\n",
      "0.055884286653517405\n",
      "0.02753122945430638\n",
      "0.04799474030243262\n",
      "0.07790927021696256\n",
      "0.07289612097304407\n",
      "0.06697896120973039\n",
      "0.07289612097304407\n",
      "0.07881328073635767\n",
      "0.063034188034188\n",
      "0.08152531229454305\n",
      "0.011505588428665356\n",
      "0.018984220907297865\n",
      "0.015696909927679113\n",
      "-0.013806706114398465\n",
      "-0.013149243918474732\n",
      "-0.0020545693622616512\n",
      "0.004602235371466124\n",
      "0.011752136752136723\n",
      "0.025558842866535186\n",
      "0.04068047337278102\n",
      "0.04306377383300459\n",
      "0.021614069690992794\n",
      "0.015039447731755381\n",
      "0.02753122945430638\n",
      "0.03550295857988162\n",
      "0.007560815253122964\n",
      "-0.0020545693622616512\n",
      "-0.028928336620644302\n",
      "-0.008218277449046697\n",
      "-0.028928336620644302\n",
      "-0.0237508218277449\n",
      "-0.004026955950032847\n",
      "-0.01577909270216966\n",
      "-0.041420118343195304\n",
      "-0.057938856015779056\n",
      "-0.03879026955950037\n",
      "-0.0651709401709402\n",
      "-0.042406311637080855\n",
      "-0.06122616699539781\n",
      "-0.03879026955950037\n",
      "-0.027695595003287294\n",
      "-0.04174884944115712\n",
      "0.03344838921761997\n",
      "0.04068047337278102\n",
      "0.007149901380670598\n",
      "0.050542406311637096\n",
      "0.063034188034188\n",
      "0.05843195266272188\n",
      "0.09590729783037479\n",
      "0.1024819197896121\n",
      "0.11406969099276792\n",
      "0.1024819197896121\n",
      "0.11406969099276792\n",
      "0.16140696909927682\n",
      "0.13009533201840895\n",
      "0.09853714661406972\n",
      "0.10355029585798821\n",
      "0.10182445759368838\n",
      "0.08448389217619989\n",
      "0.08678500986193291\n",
      "0.12417817225509535\n",
      "0.12154832347140043\n",
      "0.09590729783037479\n",
      "0.08842866535174228\n",
      "0.08152531229454305\n",
      "0.04922748191978963\n",
      "0.04799474030243262\n",
      "0.012491781722550908\n",
      "-0.041420118343195304\n",
      "-0.03977646285338592\n",
      "-0.03879026955950037\n",
      "-0.013806706114398465\n",
      "-0.010601577909270259\n",
      "0.001890203813280741\n",
      "-0.008218277449046697\n",
      "0.030243261012491765\n",
      "0.05226824457593693\n",
      "0.07881328073635767\n",
      "0.063034188034188\n",
      "0.09261998685075604\n",
      "0.07684089414858647\n",
      "0.07618343195266274\n",
      "0.07618343195266274\n",
      "0.08678500986193291\n",
      "0.08678500986193291\n",
      "0.11406969099276792\n"
     ]
    },
    {
     "name": "stdout",
     "output_type": "stream",
     "text": [
      "0.04922748191978963\n",
      "0.041337935568704756\n",
      "0.058842866535174246\n",
      "0.05843195266272188\n",
      "0.06632149901380667\n",
      "0.05843195266272188\n",
      "0.038708086785009824\n",
      "0.04068047337278102\n",
      "0.04996712689020382\n",
      "0.05687047994740305\n",
      "0.04725509533201844\n",
      "0.0680473372781065\n",
      "0.024326101249178177\n",
      "0.012491781722550908\n",
      "0.01282051282051282\n",
      "0.017422748191978945\n",
      "-0.01783366206443131\n",
      "-0.012573964497041455\n",
      "-0.028928336620644302\n",
      "-0.06015779092702171\n",
      "-0.04413214990138069\n",
      "-0.045693622616699514\n",
      "-0.0651709401709402\n",
      "-0.06977317554240632\n",
      "-0.05950032873109798\n",
      "-0.01282051282051282\n",
      "-0.013149243918474732\n",
      "0.024326101249178177\n",
      "-8.218277449045512e-05\n",
      "-0.008629191321498971\n",
      "0.02753122945430638\n",
      "0.037393162393162364\n",
      "0.011505588428665356\n",
      "-0.0032873109796186604\n",
      "0.07560815253122946\n",
      "0.06311637080867846\n",
      "0.04068047337278102\n",
      "0.03344838921761997\n",
      "0.03122945430637741\n",
      "0.05119986850756083\n",
      "0.07289612097304407\n",
      "0.06278763971071664\n",
      "0.09590729783037479\n",
      "0.12417817225509535\n",
      "0.1024819197896121\n",
      "0.08842866535174228\n",
      "0.07684089414858647\n",
      "0.08407297830374752\n",
      "0.05119986850756083\n",
      "0.08974358974358974\n",
      "0.08974358974358974\n",
      "0.08974358974358974\n",
      "0.1024819197896121\n",
      "0.08867521367521365\n",
      "0.10971400394477317\n",
      "0.10815253122945433\n",
      "0.12615055884286655\n",
      "0.11826101249178168\n",
      "0.13009533201840895\n",
      "0.11242603550295854\n",
      "0.13535502958579881\n",
      "0.12417817225509535\n",
      "0.12417817225509535\n",
      "0.11431623931623928\n",
      "0.08152531229454305\n",
      "0.05843195266272188\n",
      "0.05317225509533202\n",
      "0.04306377383300459\n",
      "0.063034188034188\n",
      "0.04068047337278102\n",
      "0.04306377383300459\n",
      "0.04996712689020382\n",
      "0.06829388560157795\n",
      "0.07289612097304407\n",
      "0.08842866535174228\n",
      "0.10355029585798821\n",
      "0.10716633793556869\n",
      "0.10355029585798821\n",
      "0.10971400394477317\n",
      "0.10971400394477317\n",
      "0.10716633793556869\n",
      "0.11431623931623928\n",
      "0.08842866535174228\n",
      "0.07289612097304407\n",
      "0.07881328073635767\n",
      "0.05843195266272188\n",
      "0.063034188034188\n",
      "0.07790927021696256\n",
      "0.055884286653517405\n",
      "0.04799474030243262\n",
      "0.063034188034188\n",
      "0.05119986850756083\n",
      "0.06829388560157795\n",
      "0.05908941485864561\n",
      "0.09853714661406972\n",
      "0.05908941485864561\n",
      "0.09261998685075604\n",
      "0.08407297830374752\n",
      "0.0637738330046022\n",
      "0.05226824457593693\n",
      "0.07026627218934915\n",
      "0.06632149901380667\n",
      "0.1024819197896121\n",
      "0.1024819197896121\n",
      "0.09853714661406972\n",
      "0.11538461538461539\n",
      "0.1406969099276791\n",
      "0.13971071663379356\n",
      "0.1537639710716634\n",
      "0.15310650887573965\n",
      "0.1728303747534517\n",
      "0.17817225509533202\n",
      "0.1787475345167653\n",
      "0.16954306377383296\n",
      "0.19847140039447736\n",
      "0.1919789612097304\n",
      "0.19132149901380666\n",
      "0.20184089414858647\n",
      "0.1951840894148586\n",
      "0.1712689020381328\n",
      "0.16559829059829057\n",
      "0.15310650887573965\n",
      "0.149819197896121\n",
      "0.12812294543063776\n",
      "0.13995726495726493\n",
      "0.14324457593688358\n",
      "0.1400394477317554\n",
      "0.2149901380670611\n",
      "0.21761998685075604\n",
      "0.21794871794871795\n",
      "0.20611439842209078\n",
      "0.20381328073635765\n",
      "0.1912393162393162\n",
      "0.19099276791584485\n",
      "0.19099276791584485\n",
      "0.18663708086785008\n",
      "0.18729454306377383\n",
      "0.19847140039447736\n",
      "0.1840894148586456\n",
      "0.1548323471400395\n",
      "0.1728303747534517\n",
      "0.17817225509533202\n",
      "0.16099605522682445\n",
      "0.14390203813280733\n",
      "0.15179158448389218\n",
      "0.1406969099276791\n",
      "0.16954306377383296\n",
      "0.18704799474030245\n",
      "0.1912393162393162\n",
      "0.18137738330046022\n",
      "0.18663708086785008\n",
      "0.19099276791584485\n",
      "0.17940499671268903\n",
      "0.1787475345167653\n",
      "0.17940499671268903\n",
      "0.16633793556870474\n",
      "0.17546022353714663\n",
      "0.1728303747534517\n",
      "0.18934911242603547\n",
      "0.18137738330046022\n",
      "0.1712689020381328\n",
      "0.1712689020381328\n",
      "0.17940499671268903\n",
      "0.20438856015779094\n",
      "0.2126890203813281\n",
      "0.19847140039447736\n",
      "0.22674227481919793\n",
      "0.2679158448389218\n",
      "0.2780243261012492\n",
      "0.2819690992767916\n",
      "0.29454306377383294\n"
     ]
    }
   ],
   "source": [
    "#n, n_A, m=read_pairs_file(\"karate.pairs\")\n",
    "n,n_A,m = create_from_matrix_file('karate.txt')\n",
    "k = degree_matrix(n_A)\n",
    "#(initial_temp, adj, s, k, m, cooling_constant, iteration)\n",
    "opt_grouping, opt_Q, saving_group, modul_list = annealing_simulating(initial_temp = 40, adj = n_A,n =n, cn=2,  s =s, k =k,m= m, cooling_constant = 1.0015, iteration =10000) "
   ]
  },
  {
   "cell_type": "code",
   "execution_count": 96,
   "metadata": {},
   "outputs": [
    {
     "data": {
      "text/plain": [
       "[1,\n",
       " 1,\n",
       " 0,\n",
       " 0,\n",
       " 1,\n",
       " 1,\n",
       " 1,\n",
       " 0,\n",
       " 0,\n",
       " 0,\n",
       " 1,\n",
       " 1,\n",
       " 0,\n",
       " 1,\n",
       " 0,\n",
       " 1,\n",
       " 0,\n",
       " 1,\n",
       " 1,\n",
       " 0,\n",
       " 1,\n",
       " 0,\n",
       " 1,\n",
       " 1,\n",
       " 0,\n",
       " 1,\n",
       " 0,\n",
       " 0,\n",
       " 0,\n",
       " 1,\n",
       " 1,\n",
       " 0,\n",
       " 0,\n",
       " 0]"
      ]
     },
     "execution_count": 96,
     "metadata": {},
     "output_type": "execute_result"
    }
   ],
   "source": [
    "saving_group[-1]"
   ]
  },
  {
   "cell_type": "code",
   "execution_count": 34,
   "metadata": {},
   "outputs": [
    {
     "ename": "NameError",
     "evalue": "name 'opt_Q' is not defined",
     "output_type": "error",
     "traceback": [
      "\u001b[0;31m---------------------------------------------------------------------------\u001b[0m",
      "\u001b[0;31mNameError\u001b[0m                                 Traceback (most recent call last)",
      "\u001b[0;32m<ipython-input-34-d8e2af8aed01>\u001b[0m in \u001b[0;36m<module>\u001b[0;34m\u001b[0m\n\u001b[0;32m----> 1\u001b[0;31m \u001b[0mprint\u001b[0m\u001b[0;34m(\u001b[0m\u001b[0mopt_Q\u001b[0m\u001b[0;34m)\u001b[0m\u001b[0;34m\u001b[0m\u001b[0;34m\u001b[0m\u001b[0m\n\u001b[0m",
      "\u001b[0;31mNameError\u001b[0m: name 'opt_Q' is not defined"
     ]
    }
   ],
   "source": [
    "[1,\n",
    " 0,\n",
    " 1,\n",
    " 1,\n",
    " 0,\n",
    " 1,\n",
    " 1,\n",
    " 1,\n",
    " 0,\n",
    " 0,\n",
    " 0,\n",
    " 1,\n",
    " 0,\n",
    " 0,\n",
    " 1,\n",
    " 0,\n",
    " 0,\n",
    " 0,\n",
    " 0,\n",
    " 1,\n",
    " 0,\n",
    " 0,\n",
    " 0,\n",
    " 1,\n",
    " 0,\n",
    " 0,\n",
    " 0,\n",
    " 0,\n",
    " 1,\n",
    " 0,\n",
    " 1,\n",
    " 0,\n",
    " 0,\n",
    " 0]\n",
    "a = [0,0,0,0,0,0,0,0,1,1,0,0,0,0,1,1,0,0,1,0,1,0,1,1,1,1,1,1,1,1,1,1,1,1]"
   ]
  },
  {
   "cell_type": "code",
   "execution_count": null,
   "metadata": {},
   "outputs": [],
   "source": [
    "def svg_format(group_list):\n",
    "    fin_set ={}\n",
    "    for idx, gnum in enumerate(group_list):\n",
    "        if gnum in fin_set :\n",
    "            fin_set[gnum].append(idx)\n",
    "        else :\n",
    "            fin_set[gnum] =[idx]\n",
    "    return fin_set"
   ]
  },
  {
   "cell_type": "code",
   "execution_count": 22,
   "metadata": {},
   "outputs": [
    {
     "data": {
      "text/plain": [
       "0.9424695009098216"
      ]
     },
     "execution_count": 22,
     "metadata": {},
     "output_type": "execute_result"
    }
   ],
   "source": [
    "import random\n",
    "np.random.random_sample()"
   ]
  },
  {
   "cell_type": "code",
   "execution_count": null,
   "metadata": {},
   "outputs": [],
   "source": [
    "def annealing_simulating(self, initial_temp, cooling_constant, iteration) :\n",
    "    \n",
    "    svg_group_list = []\n",
    "    modul_list = []\n",
    "    old_Q = None\n",
    "    \n",
    "    for i in range(iteration) :\n",
    "        \n",
    "        temp = new_temp(initial_temp, i)\n",
    "        acceptance = False \n",
    "        \n",
    "        while acceptance is False :\n",
    "            \n",
    "            if old_Q is None :\n",
    "                old_Q = get_modularity(adj, s, k, m)\n",
    "            \n",
    "            new_grouping = patching(group_list, cn)\n",
    "            \n",
    "            # new grouping list\n",
    "            new_s = partition_matrix(new_grouping)\n",
    "            # new modularity with new grouping list\n",
    "            new_Q = get_modularity(adj,new_s,k,m)\n",
    "            \n",
    "            acceptance = check_acceptance(old_Q, new_Q, temp)\n",
    "            \n",
    "            if acceptance is True :\n",
    "                \n",
    "                if new_grouping in svg_group_list :\n",
    "                    acceptance = False\n",
    "                else :\n",
    "                    svg_group_list.append(new_grouping)\n",
    "                    modul_list.append(new_Q)\n",
    "                    old_Q = new_Q\n",
    "    \n",
    "    opt_grouping = svg_format(new_grouping) \n",
    "    opt_modul = new_Q\n",
    "    \n",
    "    return opt_grouping, opt_modul\n",
    "            \n",
    "        \n",
    "        "
   ]
  },
  {
   "cell_type": "code",
   "execution_count": null,
   "metadata": {},
   "outputs": [],
   "source": [
    "## we're doing lnversely\n",
    "initial_temp = 40 \n",
    "cooling_constant = 1.0015\n",
    "\n",
    "modul_old = 0.335\n",
    "modul_new = 0.230\n",
    "\n",
    "## max number of iteration is 10000\n",
    "\n",
    "for i in range(10000) :\n",
    "    \n",
    "    modul_old \n",
    "    temp = new_temp(initial_temp, i)\n",
    "    \n",
    "    \n",
    "    ##why we need rejection threshold?\n",
    "\n",
    "   \n",
    "    acceptance = False\n",
    "    while acceptance is False :\n",
    "        \n",
    "        if no modularity, old modularity is None  :\n",
    "            get modularty from initial/grouping \n",
    "            new modularity -> old modularity\n",
    "            \n",
    "          \n",
    "        \n",
    "        point patch = get new partition\n",
    "        and get new modularity with new partition \n",
    "        new temp\n",
    "        \n",
    "        ## we only need point pitch since we constrained number of groups\n",
    "    \n",
    "        get_modularity of new grouping\n",
    "        \n",
    "        check accpetance \n",
    "        acceptance = check_acceptance(modul_old, modul_new, temp)\n",
    "        \n",
    "        if acceptance is True:\n",
    "            \n",
    "            saving groups in savinv_group_list\n",
    "            if not saving_group is None :\n",
    "                if grouping is unique\n",
    "                 adding up\n",
    "                else \n",
    "                acceptance = False\n",
    "            \n",
    "#inverse annealing"
   ]
  },
  {
   "cell_type": "code",
   "execution_count": 57,
   "metadata": {},
   "outputs": [
    {
     "data": {
      "text/plain": [
       "0.9988007197120864"
      ]
     },
     "execution_count": 57,
     "metadata": {},
     "output_type": "execute_result"
    }
   ],
   "source": [
    "math.exp(-0.0002*6) # when number i"
   ]
  },
  {
   "cell_type": "code",
   "execution_count": 7,
   "metadata": {},
   "outputs": [],
   "source": [
    "# initial grouping -> constrain number of groups"
   ]
  },
  {
   "cell_type": "code",
   "execution_count": 17,
   "metadata": {},
   "outputs": [
    {
     "data": {
      "text/plain": [
       "1.0816000000000001"
      ]
     },
     "execution_count": 17,
     "metadata": {},
     "output_type": "execute_result"
    }
   ],
   "source": [
    "math.pow(1.04,2)"
   ]
  },
  {
   "cell_type": "code",
   "execution_count": 43,
   "metadata": {},
   "outputs": [
    {
     "data": {
      "text/plain": [
       "0.4299052278854143"
      ]
     },
     "execution_count": 43,
     "metadata": {},
     "output_type": "execute_result"
    }
   ],
   "source": [
    "random.random_sample()"
   ]
  },
  {
   "cell_type": "code",
   "execution_count": 49,
   "metadata": {},
   "outputs": [],
   "source": [
    "def check (num):\n",
    "    return random.random_sample() < num "
   ]
  },
  {
   "cell_type": "code",
   "execution_count": 50,
   "metadata": {},
   "outputs": [
    {
     "data": {
      "text/plain": [
       "True"
      ]
     },
     "execution_count": 50,
     "metadata": {},
     "output_type": "execute_result"
    }
   ],
   "source": [
    "check(1.0)"
   ]
  },
  {
   "cell_type": "code",
   "execution_count": 58,
   "metadata": {},
   "outputs": [],
   "source": [
    "cn  = [1,2,3,4]"
   ]
  },
  {
   "cell_type": "code",
   "execution_count": 65,
   "metadata": {},
   "outputs": [
    {
     "ename": "ValueError",
     "evalue": "list.remove(x): x not in list",
     "output_type": "error",
     "traceback": [
      "\u001b[0;31m---------------------------------------------------------------------------\u001b[0m",
      "\u001b[0;31mValueError\u001b[0m                                Traceback (most recent call last)",
      "\u001b[0;32m<ipython-input-65-790af4b4e113>\u001b[0m in \u001b[0;36m<module>\u001b[0;34m\u001b[0m\n\u001b[0;32m----> 1\u001b[0;31m \u001b[0mcn_rm\u001b[0m \u001b[0;34m=\u001b[0m \u001b[0mcn\u001b[0m\u001b[0;34m.\u001b[0m\u001b[0mremove\u001b[0m\u001b[0;34m(\u001b[0m\u001b[0;36m2\u001b[0m\u001b[0;34m)\u001b[0m\u001b[0;34m\u001b[0m\u001b[0;34m\u001b[0m\u001b[0m\n\u001b[0m",
      "\u001b[0;31mValueError\u001b[0m: list.remove(x): x not in list"
     ]
    }
   ],
   "source": [
    "cn_rm = cn.remove(2)"
   ]
  },
  {
   "cell_type": "code",
   "execution_count": 67,
   "metadata": {},
   "outputs": [],
   "source": [
    "cn.append(2)"
   ]
  },
  {
   "cell_type": "code",
   "execution_count": 68,
   "metadata": {},
   "outputs": [
    {
     "data": {
      "text/plain": [
       "[1, 3, 4, 2]"
      ]
     },
     "execution_count": 68,
     "metadata": {},
     "output_type": "execute_result"
    }
   ],
   "source": [
    "cn"
   ]
  },
  {
   "cell_type": "markdown",
   "metadata": {},
   "source": [
    "## Getting S(Partition matrix) "
   ]
  },
  {
   "cell_type": "code",
   "execution_count": 2,
   "metadata": {},
   "outputs": [],
   "source": [
    "partition = [0,1,1,0,1,0]"
   ]
  },
  {
   "cell_type": "code",
   "execution_count": 78,
   "metadata": {},
   "outputs": [
    {
     "ename": "AttributeError",
     "evalue": "'numpy.ndarray' object has no attribute 'as_matrix'",
     "output_type": "error",
     "traceback": [
      "\u001b[0;31m---------------------------------------------------------------------------\u001b[0m",
      "\u001b[0;31mAttributeError\u001b[0m                            Traceback (most recent call last)",
      "\u001b[0;32m<ipython-input-78-3b26a0e58e2e>\u001b[0m in \u001b[0;36m<module>\u001b[0;34m\u001b[0m\n\u001b[0;32m----> 1\u001b[0;31m \u001b[0mS\u001b[0m \u001b[0;34m=\u001b[0m \u001b[0mn_A\u001b[0m\u001b[0;34m.\u001b[0m\u001b[0mas_matrix\u001b[0m\u001b[0;34m(\u001b[0m\u001b[0;34m)\u001b[0m\u001b[0;34m\u001b[0m\u001b[0;34m\u001b[0m\u001b[0m\n\u001b[0m",
      "\u001b[0;31mAttributeError\u001b[0m: 'numpy.ndarray' object has no attribute 'as_matrix'"
     ]
    }
   ],
   "source": [
    "S = n_A.as_matrix()"
   ]
  },
  {
   "cell_type": "code",
   "execution_count": 5,
   "metadata": {},
   "outputs": [
    {
     "name": "stdout",
     "output_type": "stream",
     "text": [
      "[1. 1. 1. 1. 1. 1.]\n",
      "[[0 1 1 0 1 0]\n",
      " [0 1 2 3 4 5]]\n"
     ]
    }
   ],
   "source": [
    "n = len(partition)\n",
    "data= np.ones(n)\n",
    "print(data)\n",
    "ij = np.array([partition, list(range(0,n))])\n",
    "print(ij)\n",
    "grouping_matrix = sp.csr_matrix((data,ij))"
   ]
  },
  {
   "cell_type": "code",
   "execution_count": 6,
   "metadata": {},
   "outputs": [],
   "source": [
    "S = grouping_matrix"
   ]
  },
  {
   "cell_type": "code",
   "execution_count": 7,
   "metadata": {},
   "outputs": [
    {
     "data": {
      "text/plain": [
       "array([[1., 0., 0., 1., 0., 1.],\n",
       "       [0., 1., 1., 0., 1., 0.]])"
      ]
     },
     "execution_count": 7,
     "metadata": {},
     "output_type": "execute_result"
    }
   ],
   "source": [
    "S.toarray()"
   ]
  },
  {
   "cell_type": "code",
   "execution_count": 95,
   "metadata": {},
   "outputs": [
    {
     "data": {
      "text/plain": [
       "1.0"
      ]
     },
     "execution_count": 95,
     "metadata": {},
     "output_type": "execute_result"
    }
   ],
   "source": [
    "S.diagonal().sum()"
   ]
  },
  {
   "cell_type": "code",
   "execution_count": 96,
   "metadata": {
    "scrolled": true
   },
   "outputs": [
    {
     "ename": "ValueError",
     "evalue": "dimension mismatch",
     "output_type": "error",
     "traceback": [
      "\u001b[0;31m---------------------------------------------------------------------------\u001b[0m",
      "\u001b[0;31mValueError\u001b[0m                                Traceback (most recent call last)",
      "\u001b[0;32m<ipython-input-96-314a6b894c43>\u001b[0m in \u001b[0;36m<module>\u001b[0;34m\u001b[0m\n\u001b[0;32m----> 1\u001b[0;31m \u001b[0mnp\u001b[0m\u001b[0;34m.\u001b[0m\u001b[0msquare\u001b[0m\u001b[0;34m(\u001b[0m\u001b[0mS\u001b[0m\u001b[0;34m)\u001b[0m\u001b[0;34m\u001b[0m\u001b[0;34m\u001b[0m\u001b[0m\n\u001b[0m",
      "\u001b[0;32m~/anaconda3/lib/python3.7/site-packages/scipy/sparse/base.py\u001b[0m in \u001b[0;36m__mul__\u001b[0;34m(self, other)\u001b[0m\n\u001b[1;32m    479\u001b[0m         \u001b[0;32mif\u001b[0m \u001b[0missparse\u001b[0m\u001b[0;34m(\u001b[0m\u001b[0mother\u001b[0m\u001b[0;34m)\u001b[0m\u001b[0;34m:\u001b[0m\u001b[0;34m\u001b[0m\u001b[0;34m\u001b[0m\u001b[0m\n\u001b[1;32m    480\u001b[0m             \u001b[0;32mif\u001b[0m \u001b[0mself\u001b[0m\u001b[0;34m.\u001b[0m\u001b[0mshape\u001b[0m\u001b[0;34m[\u001b[0m\u001b[0;36m1\u001b[0m\u001b[0;34m]\u001b[0m \u001b[0;34m!=\u001b[0m \u001b[0mother\u001b[0m\u001b[0;34m.\u001b[0m\u001b[0mshape\u001b[0m\u001b[0;34m[\u001b[0m\u001b[0;36m0\u001b[0m\u001b[0;34m]\u001b[0m\u001b[0;34m:\u001b[0m\u001b[0;34m\u001b[0m\u001b[0;34m\u001b[0m\u001b[0m\n\u001b[0;32m--> 481\u001b[0;31m                 \u001b[0;32mraise\u001b[0m \u001b[0mValueError\u001b[0m\u001b[0;34m(\u001b[0m\u001b[0;34m'dimension mismatch'\u001b[0m\u001b[0;34m)\u001b[0m\u001b[0;34m\u001b[0m\u001b[0;34m\u001b[0m\u001b[0m\n\u001b[0m\u001b[1;32m    482\u001b[0m             \u001b[0;32mreturn\u001b[0m \u001b[0mself\u001b[0m\u001b[0;34m.\u001b[0m\u001b[0m_mul_sparse_matrix\u001b[0m\u001b[0;34m(\u001b[0m\u001b[0mother\u001b[0m\u001b[0;34m)\u001b[0m\u001b[0;34m\u001b[0m\u001b[0;34m\u001b[0m\u001b[0m\n\u001b[1;32m    483\u001b[0m \u001b[0;34m\u001b[0m\u001b[0m\n",
      "\u001b[0;31mValueError\u001b[0m: dimension mismatch"
     ]
    }
   ],
   "source": [
    "np.square(S)"
   ]
  },
  {
   "cell_type": "code",
   "execution_count": 97,
   "metadata": {},
   "outputs": [
    {
     "data": {
      "text/plain": [
       "<3x6 sparse matrix of type '<class 'numpy.float64'>'\n",
       "\twith 6 stored elements in Compressed Sparse Row format>"
      ]
     },
     "execution_count": 97,
     "metadata": {},
     "output_type": "execute_result"
    }
   ],
   "source": [
    "S"
   ]
  },
  {
   "cell_type": "code",
   "execution_count": 106,
   "metadata": {},
   "outputs": [
    {
     "data": {
      "text/plain": [
       "(34,)"
      ]
     },
     "execution_count": 106,
     "metadata": {},
     "output_type": "execute_result"
    }
   ],
   "source": [
    "n_A.sum(axis=1).shape"
   ]
  },
  {
   "cell_type": "code",
   "execution_count": 105,
   "metadata": {},
   "outputs": [
    {
     "data": {
      "text/plain": [
       "array([1, 4])"
      ]
     },
     "execution_count": 105,
     "metadata": {},
     "output_type": "execute_result"
    }
   ],
   "source": [
    "np.square([1,2])"
   ]
  },
  {
   "cell_type": "code",
   "execution_count": 183,
   "metadata": {},
   "outputs": [
    {
     "name": "stdout",
     "output_type": "stream",
     "text": [
      "78.0\n"
     ]
    }
   ],
   "source": [
    "# s = partition matrix, k = degree matrix , m = number of edge \n",
    "m = (sumit/2)\n",
    "\n",
    "def get_modularity(adj, s, k, m ):\n",
    "    \n",
    "    # formula modularity = (Adj * p_matrix - (d_matrix)^2 * p_matrix/2m) / 2m \n",
    "    \n",
    "    adj_partition  = (s* adj *s.transpose()).diagonal().sum()\n",
    "    deg_par = np.array(s*k)\n",
    "    degree_partition = np.square(deg_par).sum()/(2*m) \n",
    "    \n",
    "    #modularity\n",
    "    Q = (adj_partition - degree_partition) /(2*m)\n",
    "    \n",
    "    return Q\n",
    "    "
   ]
  },
  {
   "cell_type": "code",
   "execution_count": 184,
   "metadata": {},
   "outputs": [
    {
     "data": {
      "text/plain": [
       "0.08678500986193291"
      ]
     },
     "execution_count": 184,
     "metadata": {},
     "output_type": "execute_result"
    }
   ],
   "source": [
    "get_modularity(n_A, g_mat, d, m )"
   ]
  },
  {
   "cell_type": "code",
   "execution_count": 180,
   "metadata": {},
   "outputs": [
    {
     "data": {
      "text/plain": [
       "matrix([[16.],\n",
       "        [ 9.],\n",
       "        [10.],\n",
       "        [ 6.],\n",
       "        [ 3.],\n",
       "        [ 4.],\n",
       "        [ 4.],\n",
       "        [ 4.],\n",
       "        [ 5.],\n",
       "        [ 3.],\n",
       "        [ 1.],\n",
       "        [ 2.],\n",
       "        [ 5.],\n",
       "        [ 2.],\n",
       "        [ 3.],\n",
       "        [ 2.],\n",
       "        [ 6.],\n",
       "        [ 4.],\n",
       "        [ 2.],\n",
       "        [ 4.],\n",
       "        [ 3.],\n",
       "        [12.],\n",
       "        [ 2.],\n",
       "        [17.],\n",
       "        [ 2.],\n",
       "        [ 2.],\n",
       "        [ 2.],\n",
       "        [ 2.],\n",
       "        [ 2.],\n",
       "        [ 5.],\n",
       "        [ 3.],\n",
       "        [ 4.],\n",
       "        [ 3.],\n",
       "        [ 2.]])"
      ]
     },
     "execution_count": 180,
     "metadata": {},
     "output_type": "execute_result"
    }
   ],
   "source": [
    "d"
   ]
  },
  {
   "cell_type": "code",
   "execution_count": 11,
   "metadata": {},
   "outputs": [],
   "source": [
    "#n is number of elements, cn, constrainumber\n",
    "def initial_grouping(n,cn):\n",
    "    \n",
    "    \n",
    "    #get list of nodes\n",
    "    nodes = [node for node in range(0,n)]\n",
    "    \n",
    "    #assign group number to each nodes\n",
    "    group_assign = [random.randrange(0,cn) for g_num in range(len(nodes))]\n",
    "    \n",
    "    return nodes, group_assign\n",
    "    "
   ]
  },
  {
   "cell_type": "code",
   "execution_count": 14,
   "metadata": {},
   "outputs": [],
   "source": [
    "node_list, group_list = initial_grouping(n, 2)"
   ]
  },
  {
   "cell_type": "code",
   "execution_count": 14,
   "metadata": {},
   "outputs": [
    {
     "data": {
      "text/plain": [
       "0"
      ]
     },
     "execution_count": 14,
     "metadata": {},
     "output_type": "execute_result"
    }
   ],
   "source": [
    "\n",
    "random.randrange(0,3)"
   ]
  },
  {
   "cell_type": "code",
   "execution_count": 17,
   "metadata": {},
   "outputs": [],
   "source": [
    "nodes = [i+1 for i in range(0,4) ]"
   ]
  },
  {
   "cell_type": "code",
   "execution_count": 18,
   "metadata": {},
   "outputs": [
    {
     "data": {
      "text/plain": [
       "[1, 2, 3, 4]"
      ]
     },
     "execution_count": 18,
     "metadata": {},
     "output_type": "execute_result"
    }
   ],
   "source": [
    "nodes"
   ]
  },
  {
   "cell_type": "code",
   "execution_count": 125,
   "metadata": {},
   "outputs": [],
   "source": [
    "group_number = [random.randrange(0,3) for g_num in range(len(nodes))]"
   ]
  },
  {
   "cell_type": "code",
   "execution_count": 126,
   "metadata": {},
   "outputs": [
    {
     "data": {
      "text/plain": [
       "[2, 2, 2, 1]"
      ]
     },
     "execution_count": 126,
     "metadata": {},
     "output_type": "execute_result"
    }
   ],
   "source": [
    "group_number"
   ]
  },
  {
   "cell_type": "code",
   "execution_count": 127,
   "metadata": {},
   "outputs": [],
   "source": [
    "node_list , group_list = initial_grouping(10,3)"
   ]
  },
  {
   "cell_type": "code",
   "execution_count": 137,
   "metadata": {
    "collapsed": true
   },
   "outputs": [
    {
     "data": {
      "text/plain": [
       "[0,\n",
       " 1,\n",
       " 2,\n",
       " 3,\n",
       " 4,\n",
       " 5,\n",
       " 6,\n",
       " 7,\n",
       " 8,\n",
       " 9,\n",
       " 10,\n",
       " 11,\n",
       " 12,\n",
       " 13,\n",
       " 14,\n",
       " 15,\n",
       " 16,\n",
       " 17,\n",
       " 18,\n",
       " 19,\n",
       " 20,\n",
       " 21,\n",
       " 22,\n",
       " 23,\n",
       " 24,\n",
       " 25,\n",
       " 26,\n",
       " 27,\n",
       " 28,\n",
       " 29,\n",
       " 30,\n",
       " 31,\n",
       " 32,\n",
       " 33]"
      ]
     },
     "execution_count": 137,
     "metadata": {},
     "output_type": "execute_result"
    }
   ],
   "source": [
    "node_list"
   ]
  },
  {
   "cell_type": "code",
   "execution_count": 138,
   "metadata": {
    "collapsed": true
   },
   "outputs": [
    {
     "data": {
      "text/plain": [
       "[0,\n",
       " 0,\n",
       " 0,\n",
       " 0,\n",
       " 0,\n",
       " 0,\n",
       " 0,\n",
       " 1,\n",
       " 0,\n",
       " 0,\n",
       " 0,\n",
       " 1,\n",
       " 1,\n",
       " 0,\n",
       " 1,\n",
       " 0,\n",
       " 1,\n",
       " 0,\n",
       " 0,\n",
       " 1,\n",
       " 1,\n",
       " 1,\n",
       " 0,\n",
       " 1,\n",
       " 1,\n",
       " 1,\n",
       " 0,\n",
       " 0,\n",
       " 1,\n",
       " 0,\n",
       " 1,\n",
       " 1,\n",
       " 1,\n",
       " 0]"
      ]
     },
     "execution_count": 138,
     "metadata": {},
     "output_type": "execute_result"
    }
   ],
   "source": [
    "group_list"
   ]
  },
  {
   "cell_type": "code",
   "execution_count": 15,
   "metadata": {},
   "outputs": [],
   "source": [
    "def partition_matrix(partition) :\n",
    "    print(partition)\n",
    "    n = len(partition)\n",
    "    data= np.ones(n)\n",
    "    print(data)\n",
    "    ij = np.array([partition, list(range(0,n))])\n",
    "    print(ij)\n",
    "    grouping_matrix = sp.csr_matrix((data,ij))\n",
    "    return grouping_matrix"
   ]
  },
  {
   "cell_type": "code",
   "execution_count": 16,
   "metadata": {},
   "outputs": [
    {
     "name": "stdout",
     "output_type": "stream",
     "text": [
      "[1, 0, 0, 0, 0, 0, 0, 1, 0, 1, 1, 0, 0, 1, 1, 0, 0, 1, 0, 0, 1, 0, 1, 0, 0, 0, 0, 1, 0, 0, 1, 0, 1, 0]\n",
      "[1. 1. 1. 1. 1. 1. 1. 1. 1. 1. 1. 1. 1. 1. 1. 1. 1. 1. 1. 1. 1. 1. 1. 1.\n",
      " 1. 1. 1. 1. 1. 1. 1. 1. 1. 1.]\n",
      "[[ 1  0  0  0  0  0  0  1  0  1  1  0  0  1  1  0  0  1  0  0  1  0  1  0\n",
      "   0  0  0  1  0  0  1  0  1  0]\n",
      " [ 0  1  2  3  4  5  6  7  8  9 10 11 12 13 14 15 16 17 18 19 20 21 22 23\n",
      "  24 25 26 27 28 29 30 31 32 33]]\n"
     ]
    }
   ],
   "source": [
    "group_matrix = partition_matrix(group_list)"
   ]
  },
  {
   "cell_type": "code",
   "execution_count": 17,
   "metadata": {},
   "outputs": [
    {
     "data": {
      "text/plain": [
       "array([[0., 1., 1., 1., 1., 1., 1., 0., 1., 0., 0., 1., 1., 0., 0., 1.,\n",
       "        1., 0., 1., 1., 0., 1., 0., 1., 1., 1., 1., 0., 1., 1., 0., 1.,\n",
       "        0., 1.],\n",
       "       [1., 0., 0., 0., 0., 0., 0., 1., 0., 1., 1., 0., 0., 1., 1., 0.,\n",
       "        0., 1., 0., 0., 1., 0., 1., 0., 0., 0., 0., 1., 0., 0., 1., 0.,\n",
       "        1., 0.]])"
      ]
     },
     "execution_count": 17,
     "metadata": {},
     "output_type": "execute_result"
    }
   ],
   "source": [
    "group_matrix.toarray()"
   ]
  },
  {
   "cell_type": "code",
   "execution_count": 142,
   "metadata": {},
   "outputs": [
    {
     "name": "stdout",
     "output_type": "stream",
     "text": [
      "[0, 0, 0, 0, 0, 0, 0, 1, 0, 0, 0, 1, 1, 0, 1, 0, 1, 0, 0, 1, 1, 1, 0, 1, 1, 1, 0, 0, 1, 0, 1, 1, 1, 0]\n",
      "[1. 1. 1. 1. 1. 1. 1. 1. 1. 1. 1. 1. 1. 1. 1. 1. 1. 1. 1. 1. 1. 1. 1. 1.\n",
      " 1. 1. 1. 1. 1. 1. 1. 1. 1. 1.]\n",
      "[[ 0  0  0  0  0  0  0  1  0  0  0  1  1  0  1  0  1  0  0  1  1  1  0  1\n",
      "   1  1  0  0  1  0  1  1  1  0]\n",
      " [ 0  1  2  3  4  5  6  7  8  9 10 11 12 13 14 15 16 17 18 19 20 21 22 23\n",
      "  24 25 26 27 28 29 30 31 32 33]]\n"
     ]
    }
   ],
   "source": [
    "g_mat = partition_matrix(group_list)"
   ]
  },
  {
   "cell_type": "code",
   "execution_count": 145,
   "metadata": {
    "collapsed": true
   },
   "outputs": [
    {
     "data": {
      "text/plain": [
       "array([[1., 1., 1., 1., 1., 1., 1., 0., 1., 1., 1., 0., 0., 1., 0., 1.,\n",
       "        0., 1., 1., 0., 0., 0., 1., 0., 0., 0., 1., 1., 0., 1., 0., 0.,\n",
       "        0., 1.],\n",
       "       [0., 0., 0., 0., 0., 0., 0., 1., 0., 0., 0., 1., 1., 0., 1., 0.,\n",
       "        1., 0., 0., 1., 1., 1., 0., 1., 1., 1., 0., 0., 1., 0., 1., 1.,\n",
       "        1., 0.]])"
      ]
     },
     "execution_count": 145,
     "metadata": {},
     "output_type": "execute_result"
    }
   ],
   "source": [
    "g_mat.toarray()"
   ]
  },
  {
   "cell_type": "code",
   "execution_count": 51,
   "metadata": {
    "collapsed": true
   },
   "outputs": [
    {
     "ename": "AttributeError",
     "evalue": "'list' object has no attribute 'partition_matrix'",
     "output_type": "error",
     "traceback": [
      "\u001b[0;31m---------------------------------------------------------------------------\u001b[0m",
      "\u001b[0;31mAttributeError\u001b[0m                            Traceback (most recent call last)",
      "\u001b[0;32m<ipython-input-51-56127adabc49>\u001b[0m in \u001b[0;36m<module>\u001b[0;34m\u001b[0m\n\u001b[0;32m----> 1\u001b[0;31m \u001b[0mgroup_list\u001b[0m\u001b[0;34m.\u001b[0m\u001b[0mpartition_matrix\u001b[0m\u001b[0;34m(\u001b[0m\u001b[0;34m)\u001b[0m\u001b[0;34m\u001b[0m\u001b[0;34m\u001b[0m\u001b[0m\n\u001b[0m",
      "\u001b[0;31mAttributeError\u001b[0m: 'list' object has no attribute 'partition_matrix'"
     ]
    }
   ],
   "source": [
    "group_list.partition_matrix()"
   ]
  },
  {
   "cell_type": "code",
   "execution_count": 64,
   "metadata": {},
   "outputs": [
    {
     "data": {
      "text/plain": [
       "array([[1., 0., 0.],\n",
       "       [1., 0., 0.],\n",
       "       [1., 0., 0.],\n",
       "       [0., 1., 0.],\n",
       "       [0., 1., 0.],\n",
       "       [0., 1., 0.],\n",
       "       [0., 0., 1.],\n",
       "       [1., 0., 0.],\n",
       "       [0., 1., 0.],\n",
       "       [1., 0., 0.]])"
      ]
     },
     "execution_count": 64,
     "metadata": {},
     "output_type": "execute_result"
    }
   ],
   "source": [
    "g_mat.transpose().toarray()"
   ]
  },
  {
   "cell_type": "code",
   "execution_count": 65,
   "metadata": {},
   "outputs": [
    {
     "data": {
      "text/plain": [
       "array([[1., 1., 1., 0., 0., 0., 0., 1., 0., 1.],\n",
       "       [0., 0., 0., 1., 1., 1., 0., 0., 1., 0.],\n",
       "       [0., 0., 0., 0., 0., 0., 1., 0., 0., 0.]])"
      ]
     },
     "execution_count": 65,
     "metadata": {},
     "output_type": "execute_result"
    }
   ],
   "source": [
    "g_mat.toarray()"
   ]
  },
  {
   "cell_type": "code",
   "execution_count": 74,
   "metadata": {},
   "outputs": [
    {
     "data": {
      "text/plain": [
       "<34x34 sparse matrix of type '<class 'numpy.float64'>'\n",
       "\twith 156 stored elements in Compressed Sparse Row format>"
      ]
     },
     "execution_count": 74,
     "metadata": {},
     "output_type": "execute_result"
    }
   ],
   "source": [
    "n_A"
   ]
  },
  {
   "cell_type": "code",
   "execution_count": 18,
   "metadata": {},
   "outputs": [],
   "source": [
    "d = n_A.sum(axis=1)"
   ]
  },
  {
   "cell_type": "code",
   "execution_count": null,
   "metadata": {},
   "outputs": [],
   "source": [
    "def degree_matrix(adj) :\n",
    "    d_mat = n_A.sum(axis=1)\n",
    "    return d_mat"
   ]
  },
  {
   "cell_type": "code",
   "execution_count": 102,
   "metadata": {},
   "outputs": [],
   "source": [
    "second_half = group_matrix *d"
   ]
  },
  {
   "cell_type": "code",
   "execution_count": 93,
   "metadata": {},
   "outputs": [],
   "source": [
    "sec = np.square(second_half).sum() / (sumit/2)"
   ]
  },
  {
   "cell_type": "code",
   "execution_count": 97,
   "metadata": {},
   "outputs": [
    {
     "data": {
      "text/plain": [
       "164.30769230769232"
      ]
     },
     "execution_count": 97,
     "metadata": {},
     "output_type": "execute_result"
    }
   ],
   "source": [
    "sec"
   ]
  },
  {
   "cell_type": "code",
   "execution_count": 95,
   "metadata": {},
   "outputs": [],
   "source": [
    "first = (group_matrix*n_A*group_matrix.transpose()).diagonal().sum()"
   ]
  },
  {
   "cell_type": "code",
   "execution_count": 96,
   "metadata": {},
   "outputs": [
    {
     "data": {
      "text/plain": [
       "65.89349112426035"
      ]
     },
     "execution_count": 96,
     "metadata": {},
     "output_type": "execute_result"
    }
   ],
   "source": [
    "first-sec/(sumit/2)"
   ]
  },
  {
   "cell_type": "code",
   "execution_count": 103,
   "metadata": {},
   "outputs": [
    {
     "data": {
      "text/plain": [
       "matrix([[60.],\n",
       "        [96.]])"
      ]
     },
     "execution_count": 103,
     "metadata": {},
     "output_type": "execute_result"
    }
   ],
   "source": [
    "second_half"
   ]
  },
  {
   "cell_type": "code",
   "execution_count": 105,
   "metadata": {},
   "outputs": [
    {
     "data": {
      "text/plain": [
       "array([[16., 44.],\n",
       "       [44., 52.]])"
      ]
     },
     "execution_count": 105,
     "metadata": {},
     "output_type": "execute_result"
    }
   ],
   "source": [
    "group_matrix*n_A*group_matrix.transpose().toarray()"
   ]
  },
  {
   "cell_type": "code",
   "execution_count": 106,
   "metadata": {
    "collapsed": true
   },
   "outputs": [
    {
     "data": {
      "text/plain": [
       "[1,\n",
       " 0,\n",
       " 0,\n",
       " 1,\n",
       " 0,\n",
       " 0,\n",
       " 1,\n",
       " 1,\n",
       " 1,\n",
       " 1,\n",
       " 0,\n",
       " 0,\n",
       " 0,\n",
       " 1,\n",
       " 1,\n",
       " 1,\n",
       " 0,\n",
       " 1,\n",
       " 0,\n",
       " 1,\n",
       " 1,\n",
       " 0,\n",
       " 1,\n",
       " 1,\n",
       " 1,\n",
       " 1,\n",
       " 1,\n",
       " 0,\n",
       " 1,\n",
       " 1,\n",
       " 1,\n",
       " 0,\n",
       " 1,\n",
       " 1]"
      ]
     },
     "execution_count": 106,
     "metadata": {},
     "output_type": "execute_result"
    }
   ],
   "source": [
    "group_list"
   ]
  },
  {
   "cell_type": "code",
   "execution_count": 147,
   "metadata": {},
   "outputs": [],
   "source": [
    "fir = (g_mat*n_A*g_mat.transpose(copy=True)).diagonal().sum()"
   ]
  },
  {
   "cell_type": "code",
   "execution_count": 149,
   "metadata": {},
   "outputs": [],
   "source": [
    "d_s = np.array(g_mat * d)"
   ]
  },
  {
   "cell_type": "code",
   "execution_count": 150,
   "metadata": {},
   "outputs": [],
   "source": [
    "sec = np.square(d_s).sum()/(2*(sumit/2))"
   ]
  },
  {
   "cell_type": "code",
   "execution_count": 155,
   "metadata": {},
   "outputs": [
    {
     "data": {
      "text/plain": [
       "0.08678500986193291"
      ]
     },
     "execution_count": 155,
     "metadata": {},
     "output_type": "execute_result"
    }
   ],
   "source": [
    "(fir-sec)/(2*(sumit/2))"
   ]
  },
  {
   "cell_type": "code",
   "execution_count": 154,
   "metadata": {},
   "outputs": [
    {
     "data": {
      "text/plain": [
       "13.538461538461533"
      ]
     },
     "execution_count": 154,
     "metadata": {},
     "output_type": "execute_result"
    }
   ],
   "source": [
    "fir-sec"
   ]
  },
  {
   "cell_type": "code",
   "execution_count": 158,
   "metadata": {
    "collapsed": true
   },
   "outputs": [
    {
     "data": {
      "text/plain": [
       "[0,\n",
       " 0,\n",
       " 0,\n",
       " 0,\n",
       " 0,\n",
       " 0,\n",
       " 0,\n",
       " 1,\n",
       " 0,\n",
       " 0,\n",
       " 0,\n",
       " 1,\n",
       " 1,\n",
       " 0,\n",
       " 1,\n",
       " 0,\n",
       " 1,\n",
       " 0,\n",
       " 0,\n",
       " 1,\n",
       " 1,\n",
       " 1,\n",
       " 0,\n",
       " 1,\n",
       " 1,\n",
       " 1,\n",
       " 0,\n",
       " 0,\n",
       " 1,\n",
       " 0,\n",
       " 1,\n",
       " 1,\n",
       " 1,\n",
       " 0]"
      ]
     },
     "execution_count": 158,
     "metadata": {},
     "output_type": "execute_result"
    }
   ],
   "source": [
    "group_list"
   ]
  },
  {
   "cell_type": "code",
   "execution_count": 162,
   "metadata": {},
   "outputs": [],
   "source": [
    "#saving format\n",
    "\n",
    "fin_set = {}\n",
    "for idx, gnum in enumerate(group_list) :\n",
    "    \n",
    "    if gnum in fin_set :\n",
    "        fin_set[gnum].append(idx)\n",
    "    \n",
    "    else :\n",
    "        fin_set[gnum] = [idx]"
   ]
  },
  {
   "cell_type": "code",
   "execution_count": 163,
   "metadata": {},
   "outputs": [
    {
     "data": {
      "text/plain": [
       "{0: [0, 1, 2, 3, 4, 5, 6, 8, 9, 10, 13, 15, 17, 18, 22, 26, 27, 29, 33],\n",
       " 1: [7, 11, 12, 14, 16, 19, 20, 21, 23, 24, 25, 28, 30, 31, 32]}"
      ]
     },
     "execution_count": 163,
     "metadata": {},
     "output_type": "execute_result"
    }
   ],
   "source": [
    "fin_set"
   ]
  },
  {
   "cell_type": "code",
   "execution_count": 172,
   "metadata": {},
   "outputs": [],
   "source": [
    "def svg_format(group_list):\n",
    "    fin_set ={}\n",
    "    for idx, gnum in enumerate(group_list):\n",
    "        if gnum in fin_set :\n",
    "            fin_set[gnum].append(idx)\n",
    "        else :\n",
    "            fin_set[gnum] =[idx]\n",
    "    return fin_set"
   ]
  },
  {
   "cell_type": "code",
   "execution_count": 173,
   "metadata": {},
   "outputs": [],
   "source": [
    "final = svg_format(group_list)"
   ]
  },
  {
   "cell_type": "code",
   "execution_count": 174,
   "metadata": {},
   "outputs": [
    {
     "name": "stdout",
     "output_type": "stream",
     "text": [
      "{0: [0, 1, 2, 3, 4, 5, 6, 8, 9, 10, 13, 15, 17, 18, 22, 26, 27, 29, 33], 1: [7, 11, 12, 14, 16, 19, 20, 21, 23, 24, 25, 28, 30, 31, 32]}\n"
     ]
    }
   ],
   "source": [
    "print(final)"
   ]
  },
  {
   "cell_type": "code",
   "execution_count": 211,
   "metadata": {},
   "outputs": [],
   "source": [
    "ts = [1,2,2,3,1]"
   ]
  },
  {
   "cell_type": "code",
   "execution_count": 187,
   "metadata": {},
   "outputs": [],
   "source": [
    "ts[2]=0"
   ]
  },
  {
   "cell_type": "code",
   "execution_count": 188,
   "metadata": {},
   "outputs": [
    {
     "data": {
      "text/plain": [
       "[1, 2, 0, 3, 1]"
      ]
     },
     "execution_count": 188,
     "metadata": {},
     "output_type": "execute_result"
    }
   ],
   "source": [
    "ts"
   ]
  },
  {
   "cell_type": "code",
   "execution_count": 204,
   "metadata": {},
   "outputs": [],
   "source": [
    "ts = [1,2,3]\n",
    "val=2"
   ]
  },
  {
   "cell_type": "code",
   "execution_count": 210,
   "metadata": {},
   "outputs": [
    {
     "data": {
      "text/plain": [
       "1"
      ]
     },
     "execution_count": 210,
     "metadata": {},
     "output_type": "execute_result"
    }
   ],
   "source": [
    "random.choice([x for x in ts if x!=val])"
   ]
  },
  {
   "cell_type": "code",
   "execution_count": 214,
   "metadata": {},
   "outputs": [],
   "source": [
    "idx = random.choice([x for x in range(0,4)])"
   ]
  },
  {
   "cell_type": "code",
   "execution_count": 217,
   "metadata": {},
   "outputs": [
    {
     "name": "stdout",
     "output_type": "stream",
     "text": [
      "2\n"
     ]
    }
   ],
   "source": [
    "val = ts[idx]\n",
    "print(val)"
   ]
  },
  {
   "cell_type": "code",
   "execution_count": 218,
   "metadata": {},
   "outputs": [],
   "source": [
    "n_val = random.choice([x for x in range(0,4) if x!= val])"
   ]
  },
  {
   "cell_type": "code",
   "execution_count": 219,
   "metadata": {},
   "outputs": [
    {
     "data": {
      "text/plain": [
       "[1, 2, 2, 3, 1]"
      ]
     },
     "execution_count": 219,
     "metadata": {},
     "output_type": "execute_result"
    }
   ],
   "source": [
    "ts"
   ]
  },
  {
   "cell_type": "code",
   "execution_count": 220,
   "metadata": {},
   "outputs": [
    {
     "name": "stdout",
     "output_type": "stream",
     "text": [
      "[1, 2, 0, 3, 1]\n"
     ]
    }
   ],
   "source": [
    "ts[idx] = n_val\n",
    "print(ts)"
   ]
  },
  {
   "cell_type": "code",
   "execution_count": 221,
   "metadata": {},
   "outputs": [],
   "source": [
    "a = [[1,0,0], [0,1,0]]"
   ]
  },
  {
   "cell_type": "code",
   "execution_count": 223,
   "metadata": {},
   "outputs": [
    {
     "data": {
      "text/plain": [
       "False"
      ]
     },
     "execution_count": 223,
     "metadata": {},
     "output_type": "execute_result"
    }
   ],
   "source": [
    "[0,0,1] in a"
   ]
  },
  {
   "cell_type": "code",
   "execution_count": 1,
   "metadata": {},
   "outputs": [],
   "source": [
    "def patching(group_list, cn) :\n",
    "    \n",
    "    n_nodes =len(group_list)\n",
    "    #cn is constrained number of groups\n",
    "    n_groups = cn\n",
    "    #get index and value that want to change\n",
    "    \n",
    "    idx = random.choice([x for x in range(0, n_nodes)])\n",
    "    val = group_list[idx]\n",
    "    \n",
    "    n_val = random.choice([y for y in range(0, n_groups) if y != val])\n",
    "    \n",
    "    group_list[idx] = n_val\n",
    "    patched_group = group_list\n",
    "    \n",
    "    return patched_group\n",
    "    "
   ]
  },
  {
   "cell_type": "code",
   "execution_count": 24,
   "metadata": {},
   "outputs": [],
   "source": [
    "cn = 2\n",
    "group_list\n",
    "patched_group = patching(group_list, cn)"
   ]
  },
  {
   "cell_type": "code",
   "execution_count": 23,
   "metadata": {
    "collapsed": true
   },
   "outputs": [
    {
     "data": {
      "text/plain": [
       "[1,\n",
       " 0,\n",
       " 0,\n",
       " 0,\n",
       " 0,\n",
       " 0,\n",
       " 0,\n",
       " 1,\n",
       " 0,\n",
       " 1,\n",
       " 1,\n",
       " 0,\n",
       " 0,\n",
       " 0,\n",
       " 1,\n",
       " 0,\n",
       " 0,\n",
       " 1,\n",
       " 0,\n",
       " 0,\n",
       " 1,\n",
       " 0,\n",
       " 1,\n",
       " 0,\n",
       " 1,\n",
       " 0,\n",
       " 0,\n",
       " 1,\n",
       " 0,\n",
       " 0,\n",
       " 1,\n",
       " 0,\n",
       " 1,\n",
       " 0]"
      ]
     },
     "execution_count": 23,
     "metadata": {},
     "output_type": "execute_result"
    }
   ],
   "source": [
    "patched_group"
   ]
  },
  {
   "cell_type": "code",
   "execution_count": 25,
   "metadata": {
    "collapsed": true
   },
   "outputs": [
    {
     "data": {
      "text/plain": [
       "[1,\n",
       " 0,\n",
       " 0,\n",
       " 0,\n",
       " 0,\n",
       " 0,\n",
       " 0,\n",
       " 1,\n",
       " 0,\n",
       " 1,\n",
       " 1,\n",
       " 0,\n",
       " 0,\n",
       " 0,\n",
       " 1,\n",
       " 0,\n",
       " 0,\n",
       " 1,\n",
       " 0,\n",
       " 0,\n",
       " 1,\n",
       " 0,\n",
       " 1,\n",
       " 0,\n",
       " 1,\n",
       " 0,\n",
       " 0,\n",
       " 0,\n",
       " 0,\n",
       " 0,\n",
       " 1,\n",
       " 0,\n",
       " 1,\n",
       " 0]"
      ]
     },
     "execution_count": 25,
     "metadata": {},
     "output_type": "execute_result"
    }
   ],
   "source": [
    "patched_group"
   ]
  },
  {
   "cell_type": "code",
   "execution_count": null,
   "metadata": {},
   "outputs": [],
   "source": []
  }
 ],
 "metadata": {
  "kernelspec": {
   "display_name": "Python 3",
   "language": "python",
   "name": "python3"
  },
  "language_info": {
   "codemirror_mode": {
    "name": "ipython",
    "version": 3
   },
   "file_extension": ".py",
   "mimetype": "text/x-python",
   "name": "python",
   "nbconvert_exporter": "python",
   "pygments_lexer": "ipython3",
   "version": "3.7.3"
  }
 },
 "nbformat": 4,
 "nbformat_minor": 4
}
