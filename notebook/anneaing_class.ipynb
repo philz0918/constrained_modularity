{
 "cells": [
  {
   "cell_type": "code",
   "execution_count": 5,
   "metadata": {},
   "outputs": [
    {
     "name": "stdout",
     "output_type": "stream",
     "text": [
      "{1: 0, 2: 0, 3: 1, 4: 0, 5: 0, 6: 0, 7: 0, 8: 0, 9: 1, 10: 1, 11: 1, 12: 1, 13: 1, 14: 0, 15: 0, 16: 0, 17: 1, 18: 0, 19: 0, 20: 1, 21: 1, 22: 0, 23: 1, 24: 0, 25: 1, 26: 0, 27: 1, 28: 1, 29: 0, 30: 1, 31: 0, 32: 0, 33: 1, 34: 0}\n",
      "0.1761998685075611\n"
     ]
    }
   ],
   "source": [
    "#!/usr/bin/env python\n",
    "'''\n",
    "Module to handle constrained simulated annealing calculations for community detection in complex networks. \n",
    "'''\n",
    "\n",
    "# ================================= IMPORTS ==============================\n",
    "# Built-ins\n",
    "import os\n",
    "import sys\n",
    "import pickle\n",
    "import random\n",
    "\n",
    "# External\n",
    "import networkx as nx\n",
    "import numpy as np\n",
    "\n",
    "# Custom\n",
    "\n",
    "# ----------------------------\n",
    "__author__ = \"Daniel Kaiser\"\n",
    "__credits__ = [\"Daniel Kaiser\", \"Sangpil Youm\"]\n",
    "\n",
    "__version__ = \"0.1\"\n",
    "__maintainer__ = \"Daniel Kaiser\"\n",
    "__email__ = \"kaiserd@iu.edu\"\n",
    "__status__ = \"Development\"\n",
    "\n",
    "# ====================== CLASSES AND FUNCTIONS =======================\n",
    "class Annealing:\n",
    "    '''Class to handle the network data to perform constrained SA on'''\n",
    "\n",
    "    def __init__(self, ntwk, number_of_groups):\n",
    "        '''Constructor for SANetwork class\n",
    "        Inputs : \n",
    "            ntwk : networkx Network\n",
    "                ntwk is a networkx Network class objct\n",
    "            number_of_groups : positive int\n",
    "                The number of communities to find\n",
    "        \n",
    "        Returns :\n",
    "            None\n",
    "        '''\n",
    "        self.ntwk = ntwk\n",
    "        self.n = ntwk.number_of_nodes()\n",
    "        self.temp = 100\n",
    "        self.modularity = 0\n",
    "        \n",
    "        #initial grouping with constrained number of groups\n",
    "        self.comm = {node: np.random.randint(0,number_of_groups) for node in list(ntwk.nodes())} # two groups for now\n",
    "        self.comms_set = set(comm.values())\n",
    "        self.number_of_groups = number_of_groups\n",
    "\n",
    "    def GlobalMove(self, num_moves = 100):\n",
    "        pass\n",
    "\n",
    "    def LocalMove(self, elligible):\n",
    "        node = np.random.choice(elligible) # Take a random node from the community being passed in\n",
    "        comm = self.comm # Make a copy to avoid prematurely altering \"true\" communities\n",
    "\n",
    "        # Making the local move\n",
    "        new_comms = set(comm.values())\n",
    "        new_comms.discard(comm[node])\n",
    "        comm[node] = np.random.choice(list(new_comms)) \n",
    "\n",
    "        # Getting modularity of post-local move partitions\n",
    "        Q_comms = [{x for x,y in comm.items() if y == c} for c in set(comm.values())] # formatting for nx function\n",
    "        modularity = nx.algorithms.community.modularity(self.ntwk, Q_comms) \n",
    "        \n",
    "        # If move is better, adjust the community and modularity accordingly\n",
    "        # Alternatively, if move is worse but succeed temperature calculations\n",
    "        better = bool(modularity >= self.modularity)\n",
    "        temp_move = bool(np.random.rand() <= self.temp) #ADD TEMPERATURE CALCULATION\n",
    "        \n",
    "        if better or temp_move:\n",
    "            self.comm = comm\n",
    "            self.modularity = modularity\n",
    "            self.temp *= 0.9\n",
    "            return True\n",
    "        else:\n",
    "            self.temp *= 0.9\n",
    "            return False\n",
    "\n",
    "    def helper_LocalMoves(self, num_moves = 100, comm={}, comm_choice = 0):\n",
    "        num_moves = (self.n)**2\n",
    "        comm = self.comm\n",
    "\n",
    "        # the set of nodes under a given community \n",
    "        elligible = [node for node, comm in self.comm.items() if comm == comm_choice]\n",
    "        \n",
    "        # Do the local moves\n",
    "        for _ in range(num_moves):\n",
    "            val = self.LocalMove(elligible)\n",
    "            if val: # check if need to consider the other community now\n",
    "                comm_choice += 1\n",
    "                comm_choice %= self.number_of_groups\n",
    "                elligible = [node for node, comm in self.comm.items() if comm == comm_choice] # redesignate which nodes are elligible\n",
    "            else:\n",
    "                continue\n",
    "\n",
    "        print(self.modularity)\n",
    "\n",
    "\n",
    "if __name__ == '__main__':\n",
    "    G = nx.read_gml('sourcefile/karate.gml', 'id')\n",
    "    Ann = Annealing(G, 2)\n",
    "    Ann.helper_LocalMoves()"
   ]
  },
  {
   "cell_type": "code",
   "execution_count": 6,
   "metadata": {},
   "outputs": [
    {
     "ename": "NameError",
     "evalue": "name 'comm' is not defined",
     "output_type": "error",
     "traceback": [
      "\u001b[0;31m---------------------------------------------------------------------------\u001b[0m",
      "\u001b[0;31mNameError\u001b[0m                                 Traceback (most recent call last)",
      "\u001b[0;32m<ipython-input-6-e52c87670ec1>\u001b[0m in \u001b[0;36m<module>\u001b[0;34m\u001b[0m\n\u001b[0;32m----> 1\u001b[0;31m \u001b[0mQ_comms\u001b[0m \u001b[0;34m=\u001b[0m \u001b[0;34m[\u001b[0m\u001b[0;34m{\u001b[0m\u001b[0mx\u001b[0m \u001b[0;32mfor\u001b[0m \u001b[0mx\u001b[0m\u001b[0;34m,\u001b[0m\u001b[0my\u001b[0m \u001b[0;32min\u001b[0m \u001b[0mcomm\u001b[0m\u001b[0;34m.\u001b[0m\u001b[0mitems\u001b[0m\u001b[0;34m(\u001b[0m\u001b[0;34m)\u001b[0m \u001b[0;32mif\u001b[0m \u001b[0my\u001b[0m \u001b[0;34m==\u001b[0m \u001b[0mc\u001b[0m\u001b[0;34m}\u001b[0m \u001b[0;32mfor\u001b[0m \u001b[0mc\u001b[0m \u001b[0;32min\u001b[0m \u001b[0mset\u001b[0m\u001b[0;34m(\u001b[0m\u001b[0mcomm\u001b[0m\u001b[0;34m.\u001b[0m\u001b[0mvalues\u001b[0m\u001b[0;34m(\u001b[0m\u001b[0;34m)\u001b[0m\u001b[0;34m)\u001b[0m\u001b[0;34m]\u001b[0m \u001b[0;31m# formatting for nx function\u001b[0m\u001b[0;34m\u001b[0m\u001b[0;34m\u001b[0m\u001b[0m\n\u001b[0m\u001b[1;32m      2\u001b[0m \u001b[0mmodularity\u001b[0m \u001b[0;34m=\u001b[0m \u001b[0mnx\u001b[0m\u001b[0;34m.\u001b[0m\u001b[0malgorithms\u001b[0m\u001b[0;34m.\u001b[0m\u001b[0mcommunity\u001b[0m\u001b[0;34m.\u001b[0m\u001b[0mmodularity\u001b[0m\u001b[0;34m(\u001b[0m\u001b[0mself\u001b[0m\u001b[0;34m.\u001b[0m\u001b[0mntwk\u001b[0m\u001b[0;34m,\u001b[0m \u001b[0mQ_comms\u001b[0m\u001b[0;34m)\u001b[0m\u001b[0;34m\u001b[0m\u001b[0;34m\u001b[0m\u001b[0m\n",
      "\u001b[0;31mNameError\u001b[0m: name 'comm' is not defined"
     ]
    }
   ],
   "source": [
    "Q_comms = [{x for x,y in comm.items() if y == c} for c in set(comm.values())] # formatting for nx function\n",
    "modularity = nx.algorithms.community.modularity(G, Q_comms) "
   ]
  },
  {
   "cell_type": "code",
   "execution_count": 7,
   "metadata": {},
   "outputs": [
    {
     "data": {
      "text/plain": [
       "<networkx.classes.graph.Graph at 0x7fe43212ce10>"
      ]
     },
     "execution_count": 7,
     "metadata": {},
     "output_type": "execute_result"
    }
   ],
   "source": [
    "G"
   ]
  },
  {
   "cell_type": "code",
   "execution_count": 11,
   "metadata": {},
   "outputs": [],
   "source": [
    "Q_comms = [{x for x,y in comm.items() if y == c} for c in set(comm.values())]"
   ]
  },
  {
   "cell_type": "code",
   "execution_count": 22,
   "metadata": {},
   "outputs": [],
   "source": [
    "comm = {}\n",
    "#{0:0,1,2,3,4,5,6,7,10,11,12,13,16,17,19,21, 1:8,9,14,15,18,20,22,23,24,25,26,27,28,29,30,31,32,33}\n",
    "comm = {1:0,2:0,3:0,4:0,5:0,6:0,7:0,8:0,9:1,10:1,11:0,12:0,13:0,14:0,15:1,16:1,17:0,18:0,19:1,20:0,21:1,22:0,23:1,24:1,25:1,26:1,27:1,28:1,29:1,30:1,31:1,32:1,33:1,34:1}"
   ]
  },
  {
   "cell_type": "code",
   "execution_count": 23,
   "metadata": {},
   "outputs": [
    {
     "data": {
      "text/plain": [
       "[{1, 2, 3, 6, 7, 11, 13, 16, 17, 18, 19, 21, 22, 24, 25, 26, 27, 28, 30},\n",
       " {4, 5, 8, 9, 10, 12, 14, 15, 20, 23, 29, 31, 32, 33, 34}]"
      ]
     },
     "execution_count": 23,
     "metadata": {},
     "output_type": "execute_result"
    }
   ],
   "source": [
    "Q_comms"
   ]
  },
  {
   "cell_type": "code",
   "execution_count": 24,
   "metadata": {},
   "outputs": [],
   "source": [
    "modularity = nx.algorithms.community.modularity(G, Q_comms) "
   ]
  },
  {
   "cell_type": "code",
   "execution_count": 14,
   "metadata": {},
   "outputs": [],
   "source": [
    "comm = {node: np.random.randint(0,2) for node in list(G.nodes())}"
   ]
  },
  {
   "cell_type": "code",
   "execution_count": 19,
   "metadata": {},
   "outputs": [],
   "source": [
    "comm\n",
    "Q_comms = [{x for x,y in comm.items() if y == c} for c in set(comm.values())]"
   ]
  },
  {
   "cell_type": "code",
   "execution_count": 20,
   "metadata": {},
   "outputs": [
    {
     "data": {
      "text/plain": [
       "[{1, 2, 3, 6, 7, 11, 13, 16, 17, 18, 19, 21, 22, 24, 25, 26, 27, 28, 30},\n",
       " {4, 5, 8, 9, 10, 12, 14, 15, 20, 23, 29, 31, 32, 33, 34}]"
      ]
     },
     "execution_count": 20,
     "metadata": {},
     "output_type": "execute_result"
    }
   ],
   "source": [
    "Q_comms"
   ]
  },
  {
   "cell_type": "code",
   "execution_count": 25,
   "metadata": {},
   "outputs": [
    {
     "data": {
      "text/plain": [
       "0.02490138067061146"
      ]
     },
     "execution_count": 25,
     "metadata": {},
     "output_type": "execute_result"
    }
   ],
   "source": [
    "modularity"
   ]
  },
  {
   "cell_type": "code",
   "execution_count": 40,
   "metadata": {},
   "outputs": [],
   "source": [
    "comm = {1: 1, 2: 1, 3: 1, 4: 1, 5: 1, 6: 1, 7: 1, 8: 1, 9: 0, 10: 1, 11: 1, 12: 1, 13: 1, 14: 1, 15: 0, 16: 0, 17: 1, 18: 1, 19: 0, 20: 1, 21: 0, 22: 1, 23: 0, 24: 0, 25: 0, 26: 0, 27: 0, 28: 0, 29: 0, 30: 0, 31: 0, 32: 0, 33: 0, 34: 0}\n",
    "Q_comms = [{x for x,y in comm.items() if y == c} for c in set(comm.values())]"
   ]
  },
  {
   "cell_type": "code",
   "execution_count": 41,
   "metadata": {},
   "outputs": [],
   "source": [
    "modularity = nx.algorithms.community.modularity(G, Q_comms) "
   ]
  },
  {
   "cell_type": "code",
   "execution_count": 42,
   "metadata": {},
   "outputs": [
    {
     "data": {
      "text/plain": [
       "0.37179487179487053"
      ]
     },
     "execution_count": 42,
     "metadata": {},
     "output_type": "execute_result"
    }
   ],
   "source": [
    "modularity"
   ]
  },
  {
   "cell_type": "code",
   "execution_count": null,
   "metadata": {},
   "outputs": [],
   "source": [
    "{1: 1, 2: 1, 3: 1, 4: 1, 5: 1, 6: 1, 7: 1, 8: 1, 9: 0, 10: 1, 11: 1, 12: 1, 13: 1, 14: 1, 15: 0, 16: 0, 17: 1, 18: 1, 19: 0, 20: 1, 21: 0, 22: 1, 23: 0, 24: 0, 25: 0, 26: 0, 27: 0, 28: 0, 29: 0, 30: 0, 31: 0, 32: 0, 33: 0, 34: 0}\n",
    "{1:0,2:0,3:0,4:0,5:0,6:0,7:0,8:0,9:1,10:0,11:0,12:0,13:0,14:0,15:1,16:1,17:0,18:0,19:1,20:0,21:1,22:0,23:1,24:1,25:1,26:1,27:1,28:1,29:1,30:1,31:1,32:1,33:1,34:1}"
   ]
  }
 ],
 "metadata": {
  "kernelspec": {
   "display_name": "Python 3",
   "language": "python",
   "name": "python3"
  },
  "language_info": {
   "codemirror_mode": {
    "name": "ipython",
    "version": 3
   },
   "file_extension": ".py",
   "mimetype": "text/x-python",
   "name": "python",
   "nbconvert_exporter": "python",
   "pygments_lexer": "ipython3",
   "version": "3.7.3"
  }
 },
 "nbformat": 4,
 "nbformat_minor": 4
}
