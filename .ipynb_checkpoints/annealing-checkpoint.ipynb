{
 "cells": [
  {
   "cell_type": "code",
   "execution_count": 409,
   "metadata": {},
   "outputs": [],
   "source": [
    "## read the file (.pairs)"
   ]
  },
  {
   "cell_type": "code",
   "execution_count": 1,
   "metadata": {},
   "outputs": [],
   "source": [
    "import numpy.random as random\n",
    "import numpy as np\n",
    "import math\n",
    "import networkx as nx\n",
    "from scipy import sparse as sp\n",
    "import random\n",
    "import matplotlib.pyplot as plt"
   ]
  },
  {
   "cell_type": "code",
   "execution_count": 98,
   "metadata": {
    "collapsed": true,
    "jupyter": {
     "outputs_hidden": true
    }
   },
   "outputs": [
    {
     "name": "stdout",
     "output_type": "stream",
     "text": [
      "split ing.. [0, 1, 0, 0, 0, 0, 0, 1, 1, 0, 1, 0, 0, 1, 1, 1, 1, 1, 1, 1, 0, 1, 1, 1, 0, 0, 0, 0, 1, 0, 0, 1, 1, 0]\n",
      "Here...\n",
      "The number of elements 0\n",
      "num_selected 17\n",
      "after spandmer [1, 1, 1, 1, 0, 0, 0, 0, 0, 0, 0, 0, 0, 0, 0, 0, 0, 1, 1, 1, 1, 1, 1, 1, 1, 1, 1, 1, 1, 1, 1, 1, 1, 1]\n"
     ]
    },
    {
     "data": {
      "text/plain": [
       "[1,\n",
       " 1,\n",
       " 1,\n",
       " 1,\n",
       " 0,\n",
       " 0,\n",
       " 0,\n",
       " 0,\n",
       " 0,\n",
       " 0,\n",
       " 0,\n",
       " 0,\n",
       " 0,\n",
       " 0,\n",
       " 0,\n",
       " 0,\n",
       " 0,\n",
       " 1,\n",
       " 1,\n",
       " 1,\n",
       " 1,\n",
       " 1,\n",
       " 1,\n",
       " 1,\n",
       " 1,\n",
       " 1,\n",
       " 1,\n",
       " 1,\n",
       " 1,\n",
       " 1,\n",
       " 1,\n",
       " 1,\n",
       " 1,\n",
       " 1]"
      ]
     },
     "execution_count": 98,
     "metadata": {},
     "output_type": "execute_result"
    }
   ],
   "source": [
    "weird = [0, 1, 0, 0, 0, 0, 0, 1, 1, 0, 1, 0, 0, 1, 1, 1, 1, 1, 1, 1, 0, 1, 1, 1, 0, 0, 0, 0, 1, 0, 0, 1, 1, 0]\n",
    "splandmer(weird, 2)"
   ]
  },
  {
   "cell_type": "code",
   "execution_count": 143,
   "metadata": {},
   "outputs": [],
   "source": [
    "#split and merge for over 3 \n",
    "def splandmer(group_list,cn) :\n",
    "    #print(\"split ing..\", group_list)\n",
    "    \n",
    "    \n",
    "    num_of_elements = 0 \n",
    "    \n",
    "    while num_of_elements == 0 or num_of_elements == 2 or num_of_elements == 1 :\n",
    "        \n",
    "        #print(\"Here...\")\n",
    "        group_list.sort()\n",
    "    \n",
    "        n_groups = cn \n",
    "    \n",
    "        # set the group \n",
    "        set_group = list(set(group_list))\n",
    "        \n",
    "        for element in set_group :\n",
    "            \n",
    "            if group_list.count(element) == 1 :\n",
    "                print(group_list.count(element))\n",
    "                num_of_elements = 1\n",
    "                continue\n",
    "            elif group_list.count(element) == 2 :\n",
    "                num_of_elements = 2\n",
    "                continue\n",
    "        \n",
    "        #print(\"The number of elements\", num_of_elements)\n",
    "        \n",
    "        #check the number of elements(not 1 or 2)\n",
    "        # choice for group to be spilit and merge \n",
    "        rand_choice = random.choice(set_group)\n",
    "            \n",
    "        # get the list of splited and merged group\n",
    "        gr_change = [y for y in group_list if y == rand_choice]\n",
    "    \n",
    "        #get a lenght for selected \n",
    "        num_selected = group_list.count(rand_choice)\n",
    "        \n",
    "        # 1 or 2 selected groups cannot be handle here (1 can make void group, 2 is single movement(local movement))\n",
    "        if num_selected == 1 :\n",
    "            num_of_elements =1\n",
    "            continue\n",
    "        elif num_selected == 2:\n",
    "            num_of_elements = 2\n",
    "            continue\n",
    "            \n",
    "        #print(group_list,rand_choice,num_selected)\n",
    "        #select number that change elments\n",
    "        #we should not choose the maximum number of selected group -> it means one group disappear\n",
    "        print(\"num_selected\", num_selected)\n",
    "        \n",
    "        change = random.choice([i+1 for i in range(num_selected-1)])\n",
    "    \n",
    "        #spliting group \n",
    "        split_gr = random.sample(gr_change, change)\n",
    "    \n",
    "        #choose group to merge into\n",
    "        merge_gr = random.choice([z for z in range(cn) if z != rand_choice])\n",
    "    \n",
    "        #merging\n",
    "        cnt = 0\n",
    "        \n",
    "        for idx, val in enumerate(group_list) :\n",
    "            if val == rand_choice :\n",
    "                #len(split_gr) = number of elements should be changed\n",
    "                if cnt <len(split_gr) :\n",
    "                    group_list[idx] = merge_gr\n",
    "                    cnt +=1\n",
    "                else : \n",
    "                    break\n",
    "        break\n",
    "    \n",
    "    new_group_list = group_list\n",
    "    print(\"after smer\", new_group_list)\n",
    "    return new_group_list\n",
    "    "
   ]
  },
  {
   "cell_type": "code",
   "execution_count": 142,
   "metadata": {
    "collapsed": true,
    "jupyter": {
     "outputs_hidden": true
    }
   },
   "outputs": [
    {
     "name": "stdout",
     "output_type": "stream",
     "text": [
      "num_selected 30\n",
      "after smer [1, 1, 1, 1, 1, 1, 1, 1, 1, 1, 1, 1, 1, 0, 0, 0, 0, 0, 0, 0, 0, 0, 0, 0, 0, 0, 0, 0, 0, 0, 1, 1, 1, 1]\n",
      "pp2 [0, 0, 0, 0, 0, 0, 0, 0, 0, 0, 0, 0, 0, 0, 1, 0, 0, 0, 0, 0, 0, 0, 0, 0, 0, 0, 0, 0, 0, 0, 0, 1, 1, 1]\n",
      "sm [1, 1, 1, 1, 1, 1, 1, 1, 1, 1, 1, 1, 1, 0, 0, 0, 0, 0, 0, 0, 0, 0, 0, 0, 0, 0, 0, 0, 0, 0, 1, 1, 1, 1]\n",
      "localQ and globalQ 0.015696909927679695 -0.0355029585798814\n"
     ]
    },
    {
     "data": {
      "text/plain": [
       "([0,\n",
       "  0,\n",
       "  0,\n",
       "  0,\n",
       "  0,\n",
       "  0,\n",
       "  0,\n",
       "  0,\n",
       "  0,\n",
       "  0,\n",
       "  0,\n",
       "  0,\n",
       "  0,\n",
       "  0,\n",
       "  1,\n",
       "  0,\n",
       "  0,\n",
       "  0,\n",
       "  0,\n",
       "  0,\n",
       "  0,\n",
       "  0,\n",
       "  0,\n",
       "  0,\n",
       "  0,\n",
       "  0,\n",
       "  0,\n",
       "  0,\n",
       "  0,\n",
       "  0,\n",
       "  0,\n",
       "  1,\n",
       "  1,\n",
       "  1],\n",
       " 0.015696909927679695,\n",
       " 'l')"
      ]
     },
     "execution_count": 142,
     "metadata": {},
     "output_type": "execute_result"
    }
   ],
   "source": [
    "grouping_update(G, weird,2)"
   ]
  },
  {
   "cell_type": "code",
   "execution_count": null,
   "metadata": {},
   "outputs": [],
   "source": [
    "from copy import deepcopy\n",
    "def grouping_update(G, group_list, cn) :\n",
    "    \n",
    "    result_list = None\n",
    "    result_Q = None\n",
    "    move = None\n",
    "    \n",
    "    #point match(local_movement)\n",
    "    pp = patching(group_list, cn)\n",
    "    pp = deepcopy(pp)\n",
    "    \n",
    "    #print(\"pp1\" , pp)\n",
    "    #global movement\n",
    "    sm = splandmer(group_list, cn)\n",
    "    sm = deepcopy(sm)\n",
    "    \n",
    "    \n",
    "    \n",
    "    print(\"pp2\", pp )\n",
    "    print(\"sm\",sm)\n",
    "    \n",
    "    local_Q = get_modularity_nx(G, pp)\n",
    "    global_Q = get_modularity_nx(G, sm)\n",
    "    \n",
    "    print(\"localQ and globalQ\", local_Q, global_Q)\n",
    "    \n",
    "    if local_Q >= global_Q :\n",
    "        result_Q = local_Q\n",
    "        move = \"l\"\n",
    "        result_list = pp\n",
    "        \n",
    "    else :\n",
    "        result_Q = global_Q\n",
    "        move = \"g\"\n",
    "        result_list = sm\n",
    "    \n",
    "    #split and merge\n",
    "    #sm = splandmer( group_list , cn)\n",
    " \n",
    "        \n",
    "    print( \"The Final :\",result_list,result_Q,  move)\n",
    "    # result_list is the group for SA\n",
    "    \n",
    "    return result_list, result_Q, move"
   ]
  },
  {
   "cell_type": "code",
   "execution_count": 129,
   "metadata": {},
   "outputs": [],
   "source": [
    "def get_modularity_nx(G, group_list) :\n",
    "    \n",
    "    #we need to change here depends on number of groups\n",
    "    \n",
    "    comm_0 = [x+1 for x,y in enumerate(group_list) if y == 0]\n",
    "    comm_1 = [x+1 for x,y in enumerate(group_list) if y == 1]\n",
    "   \n",
    "    Q = nx.community.modularity(G,[set(comm_0), set(comm_1)])\n",
    "    \n",
    "    return Q"
   ]
  },
  {
   "cell_type": "code",
   "execution_count": 5,
   "metadata": {
    "collapsed": true,
    "jupyter": {
     "outputs_hidden": true
    }
   },
   "outputs": [
    {
     "ename": "NameError",
     "evalue": "name 'G' is not defined",
     "output_type": "error",
     "traceback": [
      "\u001b[0;31m---------------------------------------------------------------------------\u001b[0m",
      "\u001b[0;31mNameError\u001b[0m                                 Traceback (most recent call last)",
      "\u001b[0;32m<ipython-input-5-ce685c1e841b>\u001b[0m in \u001b[0;36m<module>\u001b[0;34m\u001b[0m\n\u001b[1;32m      4\u001b[0m \u001b[0md\u001b[0m \u001b[0;34m=\u001b[0m \u001b[0;34m[\u001b[0m\u001b[0;36m1\u001b[0m\u001b[0;34m,\u001b[0m \u001b[0;36m1\u001b[0m\u001b[0;34m,\u001b[0m \u001b[0;36m1\u001b[0m\u001b[0;34m,\u001b[0m \u001b[0;36m1\u001b[0m\u001b[0;34m,\u001b[0m \u001b[0;36m1\u001b[0m\u001b[0;34m,\u001b[0m \u001b[0;36m1\u001b[0m\u001b[0;34m,\u001b[0m \u001b[0;36m0\u001b[0m\u001b[0;34m,\u001b[0m \u001b[0;36m1\u001b[0m\u001b[0;34m,\u001b[0m \u001b[0;36m0\u001b[0m\u001b[0;34m,\u001b[0m \u001b[0;36m0\u001b[0m\u001b[0;34m,\u001b[0m \u001b[0;36m1\u001b[0m\u001b[0;34m,\u001b[0m \u001b[0;36m1\u001b[0m\u001b[0;34m,\u001b[0m \u001b[0;36m1\u001b[0m\u001b[0;34m,\u001b[0m \u001b[0;36m0\u001b[0m\u001b[0;34m,\u001b[0m \u001b[0;36m0\u001b[0m\u001b[0;34m,\u001b[0m \u001b[0;36m0\u001b[0m\u001b[0;34m,\u001b[0m \u001b[0;36m1\u001b[0m\u001b[0;34m,\u001b[0m \u001b[0;36m1\u001b[0m\u001b[0;34m,\u001b[0m \u001b[0;36m0\u001b[0m\u001b[0;34m,\u001b[0m \u001b[0;36m0\u001b[0m\u001b[0;34m,\u001b[0m \u001b[0;36m0\u001b[0m\u001b[0;34m,\u001b[0m \u001b[0;36m0\u001b[0m\u001b[0;34m,\u001b[0m \u001b[0;36m1\u001b[0m\u001b[0;34m,\u001b[0m \u001b[0;36m0\u001b[0m\u001b[0;34m,\u001b[0m \u001b[0;36m1\u001b[0m\u001b[0;34m,\u001b[0m \u001b[0;36m1\u001b[0m\u001b[0;34m,\u001b[0m \u001b[0;36m1\u001b[0m\u001b[0;34m,\u001b[0m \u001b[0;36m1\u001b[0m\u001b[0;34m,\u001b[0m \u001b[0;36m0\u001b[0m\u001b[0;34m,\u001b[0m \u001b[0;36m0\u001b[0m\u001b[0;34m,\u001b[0m \u001b[0;36m0\u001b[0m\u001b[0;34m,\u001b[0m \u001b[0;36m0\u001b[0m\u001b[0;34m,\u001b[0m \u001b[0;36m0\u001b[0m\u001b[0;34m,\u001b[0m \u001b[0;36m0\u001b[0m\u001b[0;34m]\u001b[0m\u001b[0;34m\u001b[0m\u001b[0;34m\u001b[0m\u001b[0m\n\u001b[1;32m      5\u001b[0m \u001b[0;34m\u001b[0m\u001b[0m\n\u001b[0;32m----> 6\u001b[0;31m \u001b[0mget_modularity_nx\u001b[0m\u001b[0;34m(\u001b[0m\u001b[0mG\u001b[0m\u001b[0;34m,\u001b[0m \u001b[0md\u001b[0m\u001b[0;34m)\u001b[0m\u001b[0;34m\u001b[0m\u001b[0;34m\u001b[0m\u001b[0m\n\u001b[0m",
      "\u001b[0;31mNameError\u001b[0m: name 'G' is not defined"
     ]
    }
   ],
   "source": [
    "a =[1, 1, 0, 0, 0, 1, 0, 0, 1, 1, 0, 0, 0, 1, 0, 0, 0, 0, 0, 0, 0, 0, 1, 1, 1, 0, 1, 0, 0, 1, 0, 1, 1, 0]\n",
    "b =  [1, 1, 0, 0, 0, 1, 0, 0, 1, 1, 0, 0, 0, 1, 0, 0, 0, 0, 0, 0, 1, 0, 1, 1, 1, 0, 1, 0, 0, 1, 0, 1, 1, 0]\n",
    "c = [1, 1, 1, 1, 1, 1, 0, 1, 0, 0, 1, 1, 1, 0, 0, 0, 1, 1, 0, 0, 0, 1, 1, 0, 1, 1, 1, 1, 0, 0, 0, 0, 0, 0]\n",
    "d = [1, 1, 1, 1, 1, 1, 0, 1, 0, 0, 1, 1, 1, 0, 0, 0, 1, 1, 0, 0, 0, 0, 1, 0, 1, 1, 1, 1, 0, 0, 0, 0, 0, 0]\n",
    "\n",
    "get_modularity_nx(G, d)"
   ]
  },
  {
   "cell_type": "code",
   "execution_count": 276,
   "metadata": {},
   "outputs": [
    {
     "name": "stdout",
     "output_type": "stream",
     "text": [
      "[1, 2, 3, 4, 5, 6, 7, 8, 9, 10, 11, 12, 13, 14, 17, 18, 20, 22]\n"
     ]
    },
    {
     "data": {
      "text/plain": [
       "0.3569197896120955"
      ]
     },
     "execution_count": 276,
     "metadata": {},
     "output_type": "execute_result"
    }
   ],
   "source": [
    "#Wanna get\n",
    "\n",
    "#a = [0,0,0,0,0,0,0,0,0,0,0,0,0,0,1,1,0,0,1,0,1,0,1,1,1,1,1,1,1,1,1,1,1,1]\n",
    "\n",
    "#get_modularity_nx(G, a)\n",
    "\n"
   ]
  },
  {
   "cell_type": "code",
   "execution_count": null,
   "metadata": {},
   "outputs": [],
   "source": [
    "#n is number of elements, cn, constrainumber\n",
    "def initial_grouping(n, cn):\n",
    "\n",
    "    #get list of nodes\n",
    "    nodes = [node for node in range(0,n)]\n",
    "    \n",
    "    #assign group number to each nodes\n",
    "    group_assign = [random.randrange(0,cn) for g_num in range(len(nodes))]\n",
    "    \n",
    "    return nodes, group_assign\n",
    "\n",
    "#partition is group-assigned list\n",
    "def partition_matrix(partition) :\n",
    "    n = len(partition)\n",
    "    \n",
    "    data= np.ones(n)\n",
    "    #print(data)\n",
    "    ij = np.array([partition, list(range(0,n))])\n",
    "    #print(ij)\n",
    "    grouping_matrix = sp.csr_matrix((data,ij))\n",
    "    return grouping_matrix\n",
    "\n",
    "# s = partition matrix, k = degree matrix , m = number of edge \n",
    "\n",
    "#generating degree matrix \n",
    "def degree_matrix(adj) :\n",
    "    d_mat = n_A.sum(axis=1)\n",
    "    return d_mat\n",
    "\n",
    "\n",
    "def modularity_mat(adj, k, m ):\n",
    "    \n",
    "    null_model  = np.dot(k,k.transpose())/(2*m)\n",
    "    m_m= (adj - null_model)\n",
    "    \n",
    "    return m_m\n",
    "\n",
    "#calculate modularity\n",
    "def get_modularity(adj, s, k, m):\n",
    "    \n",
    "    # formula modularity = (Adj * p_matrix - (d_matrix)^2 * p_matrix/2m) / 2m \n",
    "    #adj_partition  = (s* adj *s.transpose()).diagonal().sum()\n",
    "    #deg_par = np.array(s*k)\n",
    "    #degree_partition = np.square(deg_par).sum()/(2*m) \n",
    "    #modularity\n",
    "    #Q = (adj_partition - degree_partition) /(2*m)\n",
    "    \n",
    "    mod_matrix = modularity_mat(adj, k, m )\n",
    "    modul = (s*mod_matrix*s.transpose()).diagonal().sum()\n",
    "    Q = modul/(2*m)\n",
    "    \n",
    "    return Q\n",
    "\n",
    "# this is local movement\n",
    "def patching(group_list, cn) :\n",
    "    \n",
    "    n_nodes =len(group_list)\n",
    "    #cn is constrained number of groups\n",
    "    n_groups = cn\n",
    "    #get index and value that want to change\n",
    "    \n",
    "    idx = random.choice([x for x in range(0, n_nodes)])\n",
    "    val = group_list[idx]\n",
    "    \n",
    "    n_val = random.choice([y for y in range(0, n_groups) if y != val])\n",
    "    \n",
    "    group_list[idx] = n_val\n",
    "    patched_group = group_list\n",
    "    \n",
    "    return patched_group\n",
    "\n",
    "\n",
    "\n",
    "def annealing_simulating(G, initial_temp, adj,n, cn,  s, k, m, cooling_constant, iteration) :\n",
    "    \n",
    "    svg_group_list = []\n",
    "    modul_list = []\n",
    "    old_Q = None\n",
    "    group_list = None\n",
    "    movement = {\"global\":0, \"local\" :0}\n",
    "    for i in range(iteration) :\n",
    "        \n",
    "        temp = new_temp(cooling_constant, initial_temp, i)\n",
    "        acceptance = False \n",
    "        num_rejection = -1\n",
    "        #n numberof nodes, cn constrained number of groups\n",
    "        #rej_threshold = cal_rej_thres(n,cn)\n",
    "        #print(rej_threshold)\n",
    "        \n",
    "        while acceptance is False :\n",
    "            \n",
    "            num_rejection +=1\n",
    "            #print(old_Q)\n",
    "            \n",
    "            #when the very first\n",
    "            if old_Q is None :\n",
    "                node_list , group_list = initial_grouping(n,cn)\n",
    "                s = partition_matrix(group_list)\n",
    "                old_Q = get_modularity_nx(G,group_list)\n",
    "                \n",
    "            #get new grouping by checking global and local movement\n",
    "            new_grouping,new_Q,move = grouping_update(G, group_list, cn)\n",
    "            \n",
    "            acceptance = check_acceptance(old_Q, new_Q, temp)\n",
    "            \n",
    "            #print(acceptance)\n",
    "            #print(num_rejection)\n",
    "            if num_rejection > 20000:\n",
    "                break\n",
    "            \n",
    "            \n",
    "            if acceptance is True :\n",
    "                \n",
    "                #if new_grouping in svg_group_list :\n",
    "                    #acceptance = False\n",
    "                #else :\n",
    "                svg_group_list.append(new_grouping)\n",
    "                svg_group_list = deepcopy(svg_group_list)\n",
    "                modul_list.append(new_Q)\n",
    "                print(new_grouping)\n",
    "                print(\"This is svg group list \",svg_group_list[-1])\n",
    "                print(modul_list[-1])\n",
    "                old_Q = new_Q\n",
    "                # accepted grouping would be old grouping and update group based on this grouping \n",
    "                group_list = new_grouping\n",
    "                \n",
    "                if move == \"g\" :\n",
    "                    movement[\"global\"] +=1\n",
    "                elif move == \"l\" :\n",
    "                    movement[\"local\"] +=1\n",
    "                \n",
    "    #opt = modul_list[-1]\n",
    "    #print(modul_list[-1])\n",
    "    #print(\"this is the output values\")\n",
    "    #print(new_grouping)\n",
    "    #print(new_Q)\n",
    "    opt = modul_list[-1]\n",
    "    #idx_opt = modul_list.index(opt)\n",
    "    \n",
    "    #opt_group = svg_group_list[-1]\n",
    "    print(svg_group_list[-1])\n",
    "    opt_group = svg_group_list[-1]\n",
    "    opt_grouping = svg_format(opt_group) \n",
    "    opt_Q = opt\n",
    "    \n",
    "    return opt_grouping, opt_Q, svg_group_list, modul_list, movement\n",
    "            \n",
    "\n",
    "\n",
    "# get updated temperature\n",
    "def new_temp(cooling_constant, prev_temp, times) :\n",
    "    new_temp = (math.pow(cooling_constant,times)) * prev_temp\n",
    "    return new_temp \n",
    "\n",
    "# check acceptance between old groups and new groups\n",
    "def check_acceptance(modul_old, modul_new  , temp) :\n",
    "    if modul_new > modul_old :\n",
    "        return True\n",
    "    else :\n",
    "        new_accept = math.exp((modul_new - modul_old) * temp)\n",
    "        #modul_new- modul_old is negative value\n",
    "        # when temp is higher , new_accept is getting smaller \n",
    "    return (np.random.random_sample() < new_accept)  #get true or false\n",
    "\n",
    "\n",
    "\n",
    "#calculate rejection threshold \n",
    "\n",
    "def cal_rej_thres(n, nc):\n",
    "    \n",
    "    num_pathing = n*nc\n",
    "    \n",
    "    num_of_moves = num_pathing\n",
    "    \n",
    "    confi = 1 - math.log(0.0000000000000001)/math.log(num_of_moves)\n",
    "    \n",
    "    return confi *num_of_moves * math.log(num_of_moves)\n",
    "\n",
    "#saving format for check group easily \n",
    "\n",
    "def svg_format(group_list):\n",
    "    fin_set ={}\n",
    "    for idx, gnum in enumerate(group_list):\n",
    "        if gnum in fin_set :\n",
    "            fin_set[gnum].append(idx)\n",
    "        else :\n",
    "            fin_set[gnum] =[idx]\n",
    "    return fin_set\n",
    "\n"
   ]
  },
  {
   "cell_type": "code",
   "execution_count": 62,
   "metadata": {},
   "outputs": [
    {
     "data": {
      "text/plain": [
       "2792.139105129497"
      ]
     },
     "execution_count": 62,
     "metadata": {},
     "output_type": "execute_result"
    }
   ],
   "source": [
    "cal_rej_thres(34,2)"
   ]
  },
  {
   "cell_type": "markdown",
   "metadata": {},
   "source": [
    "## Simulated Annealing for modularity optimization (Operating code)"
   ]
  },
  {
   "cell_type": "markdown",
   "metadata": {},
   "source": [
    "## 1)Setup "
   ]
  },
  {
   "cell_type": "code",
   "execution_count": 71,
   "metadata": {},
   "outputs": [],
   "source": [
    "G = nx.read_gml('sourcefile/karate.gml', 'id')\n",
    "n_A = nx.adjacency_matrix(G).toarray()\n",
    "n = G.number_of_nodes()\n",
    "m = sum([x[1] for x in G.degree()])\n",
    "k = degree_matrix(n_A)\n",
    "cn = 2\n",
    "#s = partition_matrix(initial_grouping(n,cn)[1])"
   ]
  },
  {
   "cell_type": "code",
   "execution_count": 8,
   "metadata": {},
   "outputs": [
    {
     "data": {
      "text/plain": [
       "<networkx.classes.graph.Graph at 0x7f9b0f490b70>"
      ]
     },
     "execution_count": 8,
     "metadata": {},
     "output_type": "execute_result"
    }
   ],
   "source": [
    "G"
   ]
  },
  {
   "cell_type": "code",
   "execution_count": 401,
   "metadata": {},
   "outputs": [
    {
     "name": "stdout",
     "output_type": "stream",
     "text": [
      "{1: [0, 1, 7, 9, 11, 12, 13, 14, 18, 19, 21, 22, 23, 24, 29, 31, 32], 0: [2, 3, 4, 5, 6, 8, 10, 15, 16, 17, 20, 25, 26, 27, 28, 30, 33]}\n"
     ]
    },
    {
     "data": {
      "image/png": "[encoded data removed]",
      "text/plain": [
       "<Figure size 432x288 with 1 Axes>"
      ]
     },
     "metadata": {
      "needs_background": "light"
     },
     "output_type": "display_data"
    }
   ],
   "source": [
    "plt.plot(modul_list)\n",
    "print(opt_grouping)\n",
    "#a = [0,0,0,0,0,0,0,0,0,0,0,0,0,0,1,1,0,0,1,0,1,0,1,1,1,1,1,1,1,1,1,1,1,1]\n",
    "#{0:0,1,2,3,4,5,6,7,8,9,10,11,12,13,16,17,19,21\n",
    "# 1:14,15,18,20,22,23,24,25,26,27,28,29,30,31,32,33}"
   ]
  },
  {
   "cell_type": "code",
   "execution_count": 366,
   "metadata": {},
   "outputs": [],
   "source": [
    "one_Q = []\n",
    "one_Q.extend(list_opt_Q)\n",
    "one_grouping = []\n",
    "one_grouping.extend(list_opt_grouping)"
   ]
  },
  {
   "cell_type": "code",
   "execution_count": null,
   "metadata": {},
   "outputs": [],
   "source": []
  },
  {
   "cell_type": "markdown",
   "metadata": {},
   "source": [
    "## Operating\n"
   ]
  },
  {
   "cell_type": "code",
   "execution_count": null,
   "metadata": {},
   "outputs": [],
   "source": [
    "list_opt_grouping = []\n",
    "list_opt_Q = []\n",
    "list_modul_list =[]\n",
    "list_movement = []\n",
    "\n",
    "for i in range(20) :\n",
    "    print(str(i) +\"try start\")\n",
    "    opt_grouping, opt_Q, saving_group, modul_list, movement = annealing_simulating(G = G, initial_temp = 40, adj = n_A,n =n, cn=2,  s =None, k =k,m= m, cooling_constant = 1.0015, iteration =30)\n",
    "    list_opt_grouping.append(opt_grouping)\n",
    "    list_opt_Q.append(opt_Q)\n",
    "    list_modul_list.append(modul_list)\n",
    "    list_movement.append(movement)\n",
    "    print(str(i) +\"try done!\")"
   ]
  },
  {
   "cell_type": "code",
   "execution_count": null,
   "metadata": {},
   "outputs": [],
   "source": [
    "#n, n_A, m=read_pairs_file(\"karate.pairs\")\n",
    "n,n_A,m = read_adj_file('sourcefile/karate.adj')\n",
    "k = degree_matrix(n_A)\n",
    "#(initial_temp, adj, s, k, m, cooling_constant, iteration)\n",
    "opt_grouping, opt_Q, saving_group, modul_list = annealing_simulating(initial_temp = 40, adj = n_A,n =n, cn=2,  s =s, k =k,m= m, cooling_constant = 1.0015, iteration =20000) "
   ]
  },
  {
   "cell_type": "code",
   "execution_count": null,
   "metadata": {},
   "outputs": [],
   "source": []
  },
  {
   "cell_type": "code",
   "execution_count": 305,
   "metadata": {},
   "outputs": [
    {
     "data": {
      "text/plain": [
       "{1: [0, 5, 8, 9, 10, 14, 15, 16, 20, 23, 26, 27, 28, 31, 33],\n",
       " 0: [1, 2, 3, 4, 6, 7, 11, 12, 13, 17, 18, 19, 21, 22, 24, 25, 29, 30, 32]}"
      ]
     },
     "execution_count": 305,
     "metadata": {},
     "output_type": "execute_result"
    }
   ],
   "source": [
    "opt_grouping\n",
    "#a = [0,0,0,0,0,0,0,0,1,1,0,0,0,0,1,1,0,0,1,0,1,0,1,1,1,1,1,1,1,1,1,1,1,1]\n",
    "#{0:0,1,2,3,4,5,6,7,10,11,12,13,16,17,19,21\n",
    "# 1:8,9,14,15,18,20,22,23,24,25,26,27,28,29,30,31,32,33}"
   ]
  },
  {
   "cell_type": "markdown",
   "metadata": {},
   "source": [
    "## Simulated Annealing"
   ]
  },
  {
   "cell_type": "code",
   "execution_count": 160,
   "metadata": {},
   "outputs": [],
   "source": [
    "def annealing_simulating(initial_temp, adj,n, cn,  s, k, m, cooling_constant, iteration) :\n",
    "    \n",
    "    svg_group_list = []\n",
    "    modul_list = []\n",
    "    old_Q = None\n",
    "    group_list = None\n",
    "    for i in range(iteration) :\n",
    "        \n",
    "        temp = new_temp(cooling_constant, initial_temp, i)\n",
    "        acceptance = False \n",
    "        num_rejection = -1\n",
    "        #n numberof nodes, cn constrained number of groups\n",
    "        rej_threshold = cal_rej_thres(n,cn)\n",
    "        #print(rej_threshold)\n",
    "        \n",
    "        while acceptance is False :\n",
    "            \n",
    "            num_rejection +=1\n",
    "            #print(old_Q)\n",
    "            \n",
    "            #when the very first\n",
    "            if old_Q is None :\n",
    "                node_list , group_list = initial_grouping(n,cn)\n",
    "                s = partition_matrix(group_list)\n",
    "                old_Q = get_modularity(adj, s, k, m)\n",
    "                \n",
    "            \n",
    "            # patching new grouping list\n",
    "            new_grouping = patching(group_list, cn)\n",
    "            #print(new_grouping)\n",
    "            \n",
    "            # new grouping matrix\n",
    "            new_s = partition_matrix(new_grouping)\n",
    "            \n",
    "            # new modularity with new grouping matrix\n",
    "            new_Q = get_modularity(adj,new_s,k,m)\n",
    "            #print(new_Q)\n",
    "            \n",
    "            acceptance = check_acceptance(old_Q, new_Q, temp)\n",
    "            \n",
    "            #print(acceptance)\n",
    "            #print(num_rejection)\n",
    "            if num_rejection > rej_threshold:\n",
    "                break\n",
    "            \n",
    "            \n",
    "            if acceptance is True :\n",
    "                \n",
    "                #if new_grouping in svg_group_list :\n",
    "                    #acceptance = False\n",
    "                #else :\n",
    "                svg_group_list.append(new_grouping)\n",
    "                modul_list.append(new_Q)\n",
    "                #print(modul_list[-1])\n",
    "                old_Q = new_Q\n",
    "                group_list = new_grouping\n",
    "                \n",
    "    opt = max(modul_list)\n",
    "    idx_opt = modul_list.index(opt)\n",
    "    \n",
    "    opt_group = svg_group_list[idx_opt]\n",
    "    \n",
    "    opt_grouping = svg_format(opt_group) \n",
    "    opt_Q = opt\n",
    "    \n",
    "    return opt_grouping, opt_Q, svg_group_list, modul_list\n",
    "            \n",
    "        \n",
    "        "
   ]
  },
  {
   "cell_type": "markdown",
   "metadata": {},
   "source": [
    "## Getting modularity "
   ]
  },
  {
   "cell_type": "code",
   "execution_count": 183,
   "metadata": {},
   "outputs": [
    {
     "name": "stdout",
     "output_type": "stream",
     "text": [
      "78.0\n"
     ]
    }
   ],
   "source": [
    "# s = partition matrix, k = degree matrix , m = number of edge \n",
    "m = (sumit/2)\n",
    "\n",
    "def get_modularity(adj, s, k, m ):\n",
    "    \n",
    "    # formula modularity = (Adj * p_matrix - (d_matrix)^2 * p_matrix/2m) / 2m \n",
    "    \n",
    "    adj_partition  = (s* adj *s.transpose()).diagonal().sum()\n",
    "    deg_par = np.array(s*k)\n",
    "    degree_partition = np.square(deg_par).sum()/(2*m) \n",
    "    \n",
    "    #modularity\n",
    "    Q = (adj_partition - degree_partition) /(2*m)\n",
    "    \n",
    "    return Q\n",
    "    "
   ]
  },
  {
   "cell_type": "markdown",
   "metadata": {},
   "source": [
    "## Degree matrix"
   ]
  },
  {
   "cell_type": "code",
   "execution_count": null,
   "metadata": {},
   "outputs": [],
   "source": [
    "def degree_matrix(adj) :\n",
    "    d_mat = n_A.sum(axis=1)\n",
    "    return d_mat"
   ]
  },
  {
   "cell_type": "markdown",
   "metadata": {},
   "source": [
    "## Initial grouping"
   ]
  },
  {
   "cell_type": "code",
   "execution_count": 11,
   "metadata": {},
   "outputs": [],
   "source": [
    "#n is number of elements, cn, constrainumber\n",
    "def initial_grouping(n,cn):\n",
    "    \n",
    "    \n",
    "    #get list of nodes\n",
    "    nodes = [node for node in range(0,n)]\n",
    "    \n",
    "    #assign group number to each nodes\n",
    "    group_assign = [random.randrange(0,cn) for g_num in range(len(nodes))]\n",
    "    \n",
    "    return nodes, group_assign\n",
    "    "
   ]
  },
  {
   "cell_type": "markdown",
   "metadata": {},
   "source": [
    "## Getting S(Partition matrix) "
   ]
  },
  {
   "cell_type": "code",
   "execution_count": 15,
   "metadata": {},
   "outputs": [],
   "source": [
    "def partition_matrix(partition) :\n",
    "    print(partition)\n",
    "    n = len(partition)\n",
    "    data= np.ones(n)\n",
    "    print(data)\n",
    "    ij = np.array([partition, list(range(0,n))])\n",
    "    print(ij)\n",
    "    grouping_matrix = sp.csr_matrix((data,ij))\n",
    "    return grouping_matrix"
   ]
  },
  {
   "cell_type": "markdown",
   "metadata": {},
   "source": [
    "## Saving format for checking group easily"
   ]
  },
  {
   "cell_type": "code",
   "execution_count": 172,
   "metadata": {},
   "outputs": [],
   "source": [
    "def svg_format(group_list):\n",
    "    fin_set ={}\n",
    "    for idx, gnum in enumerate(group_list):\n",
    "        if gnum in fin_set :\n",
    "            fin_set[gnum].append(idx)\n",
    "        else :\n",
    "            fin_set[gnum] =[idx]\n",
    "    return fin_set"
   ]
  },
  {
   "cell_type": "markdown",
   "metadata": {},
   "source": [
    "## Pathcing the group move singe node into other groups"
   ]
  },
  {
   "cell_type": "code",
   "execution_count": 1,
   "metadata": {},
   "outputs": [],
   "source": [
    "def patching(group_list, cn) :\n",
    "    \n",
    "    n_nodes =len(group_list)\n",
    "    #cn is constrained number of groups\n",
    "    n_groups = cn\n",
    "    #get index and value that want to change\n",
    "    \n",
    "    idx = random.choice([x for x in range(0, n_nodes)])\n",
    "    val = group_list[idx]\n",
    "    \n",
    "    n_val = random.choice([y for y in range(0, n_groups) if y != val])\n",
    "    \n",
    "    group_list[idx] = n_val\n",
    "    patched_group = group_list\n",
    "    \n",
    "    return patched_group\n",
    "    "
   ]
  }
 ],
 "metadata": {
  "kernelspec": {
   "display_name": "Python 3",
   "language": "python",
   "name": "python3"
  },
  "language_info": {
   "codemirror_mode": {
    "name": "ipython",
    "version": 3
   },
   "file_extension": ".py",
   "mimetype": "text/x-python",
   "name": "python",
   "nbconvert_exporter": "python",
   "pygments_lexer": "ipython3",
   "version": "3.7.3"
  }
 },
 "nbformat": 4,
 "nbformat_minor": 4
}
