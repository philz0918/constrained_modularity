{
 "cells": [
  {
   "cell_type": "code",
   "execution_count": 86,
   "metadata": {},
   "outputs": [],
   "source": [
    "a = [0,0,0,0,0,0,0,0,0,0,0,0,0,0,1,1,0,0,1,0,1,0,1,1,1,1,1,1,1,1,1,1,1,1]"
   ]
  },
  {
   "cell_type": "code",
   "execution_count": 8,
   "metadata": {},
   "outputs": [
    {
     "name": "stdout",
     "output_type": "stream",
     "text": [
      "34\n"
     ]
    }
   ],
   "source": [
    "print(len(a))\n",
    "import numpy.random as random\n",
    "import numpy as np\n",
    "import math\n",
    "import networkx as nx\n",
    "from scipy import sparse as sp\n",
    "import random"
   ]
  },
  {
   "cell_type": "code",
   "execution_count": 34,
   "metadata": {},
   "outputs": [],
   "source": [
    "#n is number of elements, cn, constrainumber\n",
    "def initial_grouping(n, cn):\n",
    "\n",
    "    #get list of nodes\n",
    "    nodes = [node for node in range(0,n)]\n",
    "    \n",
    "    #assign group number to each nodes\n",
    "    group_assign = [random.randrange(0,cn) for g_num in range(len(nodes))]\n",
    "    \n",
    "    return nodes, group_assign\n",
    "\n",
    "#partition is group-assigned list\n",
    "def partition_matrix(partition) :\n",
    "    n = len(partition)\n",
    "    data= np.ones(n)\n",
    "    #print(data)\n",
    "    ij = np.array([partition, list(range(0,n))])\n",
    "    #print(ij)\n",
    "    grouping_matrix = sp.csr_matrix((data,ij))\n",
    "    return grouping_matrix\n",
    "\n",
    "# s = partition matrix, k = degree matrix , m = number of edge \n",
    "\n",
    "\n",
    "def degree_matrix(adj) :\n",
    "    d_mat = n_A.sum(axis=1)\n",
    "    return d_mat\n",
    "\n",
    "\n",
    "def modularity_mat(adj, k, m ):\n",
    "    \n",
    "    null_model  = np.dot(k,k.transpose())/(2*m)\n",
    "    \n",
    "    m_m= (adj - null_model)\n",
    "    \n",
    "    return m_m\n",
    "\n",
    "def get_modularity(adj, s, k, m):\n",
    "    \n",
    "    # formula modularity = (Adj * p_matrix - (d_matrix)^2 * p_matrix/2m) / 2m \n",
    "    \n",
    "    adj_partition  = (s* adj *s.transpose()).diagonal().sum()\n",
    "    deg_par = np.array(s*k)\n",
    "    degree_partition = np.square(deg_par).sum()/(2*m) \n",
    "    \n",
    "    #modularity\n",
    "    Q = (adj_partition - degree_partition) /(2*m)\n",
    "    \n",
    "    return Q\n",
    "\n",
    "def patching(group_list, cn) :\n",
    "    \n",
    "    n_nodes =len(group_list)\n",
    "    #cn is constrained number of groups\n",
    "    n_groups = cn\n",
    "    #get index and value that want to change\n",
    "    \n",
    "    idx = random.choice([x for x in range(0, n_nodes)])\n",
    "    val = group_list[idx]\n",
    "    \n",
    "    n_val = random.choice([y for y in range(0, n_groups) if y != val])\n",
    "    \n",
    "    group_list[idx] = n_val\n",
    "    patched_group = group_list\n",
    "    \n",
    "    return patched_group\n",
    "\n",
    "\n",
    "\n",
    "def annealing_simulating(initial_temp, adj,n, cn,  s, k, m, cooling_constant, iteration) :\n",
    "    \n",
    "    svg_group_list = []\n",
    "    modul_list = []\n",
    "    old_Q = None\n",
    "    \n",
    "    for i in range(iteration) :\n",
    "        \n",
    "        temp = new_temp(cooling_constant, initial_temp, i)\n",
    "        acceptance = False \n",
    "        num_rejection = -1\n",
    "        #n numberof nodes, cn constrained number of groups\n",
    "        rej_threshold = cal_rej_thres(n,cn)\n",
    "        #print(rej_threshold)\n",
    "        \n",
    "        while acceptance is False :\n",
    "            \n",
    "            num_rejection +=1\n",
    "            #print(old_Q)\n",
    "            \n",
    "            if old_Q is None :\n",
    "                old_Q = get_modularity(adj, s, k, m)\n",
    "            \n",
    "            # patching new grouping list\n",
    "            new_grouping = patching(group_list, cn)\n",
    "            print(new_grouping)\n",
    "            # new grouping matrix\n",
    "            new_s = partition_matrix(new_grouping)\n",
    "            # new modularity with new grouping matrix\n",
    "            new_Q = get_modularity(adj,new_s,k,m)\n",
    "            print(new_Q)\n",
    "            acceptance = check_acceptance(old_Q, new_Q, temp)\n",
    "            \n",
    "            #print(num_rejection)\n",
    "            if num_rejection > rej_threshold:\n",
    "                break\n",
    "            \n",
    "            \n",
    "            if acceptance is True :\n",
    "                \n",
    "                if new_grouping in svg_group_list :\n",
    "                    acceptance = False\n",
    "                else :\n",
    "                    svg_group_list.append(new_grouping)\n",
    "                    modul_list.append(new_Q)\n",
    "                    print(new_Q)\n",
    "                    old_Q = new_Q\n",
    "                \n",
    "    opt_grouping = svg_format(new_grouping) \n",
    "    opt_modul = new_Q\n",
    "    \n",
    "    return opt_grouping, opt_modul\n",
    "            \n",
    "\n",
    "            \n",
    "def new_temp(cooling_constant, prev_temp, times) :\n",
    "    new_temp = (math.pow(cooling_constant,times)) * prev_temp\n",
    "    return new_temp \n",
    "\n",
    "def check_acceptance(modul_old, modul_new  , temp) :\n",
    "    if modul_new > modul_old :\n",
    "        return True\n",
    "    else :\n",
    "        new_accept = math.exp((modul_new - modul_old) * temp)\n",
    "        #modul_new- modul_old is negative value\n",
    "        # when temp is higher , new_accept is getting smaller \n",
    "    return (np.random.random_sample() < new_accept)  #get true or false\n",
    "\n",
    "\n",
    "def cal_rej_thres(n, nc):\n",
    "    \n",
    "    num_pathing = n*nc\n",
    "    \n",
    "    num_of_moves = num_pathing\n",
    "    \n",
    "    confi = 1 - math.log(0.05)/math.log(num_of_moves)\n",
    "    \n",
    "    return confi *num_of_moves * math.log(num_of_moves)\n",
    "\n",
    "def svg_format(group_list):\n",
    "    fin_set ={}\n",
    "    for idx, gnum in enumerate(group_list):\n",
    "        if gnum in fin_set :\n",
    "            fin_set[gnum].append(idx)\n",
    "        else :\n",
    "            fin_set[gnum] =[idx]\n",
    "    return fin_set\n",
    "\n",
    "class OptimumReached(Exception):\n",
    "    def __init__(self, time_step) :\n",
    "        self.time_step = time_step\n",
    "    def __str__(self) :\n",
    "        return \"Optimum reached at step %d\"%self.time_step"
   ]
  },
  {
   "cell_type": "code",
   "execution_count": 78,
   "metadata": {},
   "outputs": [
    {
     "name": "stdout",
     "output_type": "stream",
     "text": [
      "[[0, 1], [0, 2], [0, 3], [0, 4], [0, 5], [0, 6], [0, 7], [0, 8], [0, 9], [0, 10], [0, 11], [0, 12], [0, 13], [0, 14], [0, 15], [0, 16], [1, 2], [1, 3], [1, 7], [1, 12], [1, 13], [1, 14], [1, 15], [1, 17], [2, 3], [2, 7], [2, 8], [2, 18], [2, 12], [2, 19], [2, 20], [2, 21], [3, 7], [3, 11], [3, 12], [4, 6], [4, 9], [5, 6], [5, 9], [5, 22], [6, 22], [8, 17], [8, 21], [8, 23], [18, 23], [12, 23], [24, 21], [24, 23], [25, 21], [25, 23], [26, 21], [26, 23], [14, 23], [27, 21], [27, 23], [28, 21], [28, 23], [29, 30], [29, 19], [29, 31], [29, 21], [29, 23], [32, 30], [32, 19], [32, 16], [30, 16], [33, 31], [33, 23], [19, 23], [20, 16], [20, 23], [31, 21], [31, 23], [17, 21], [17, 23], [16, 21], [16, 23], [21, 23], [1, 0], [2, 0], [3, 0], [4, 0], [5, 0], [6, 0], [7, 0], [8, 0], [9, 0], [10, 0], [11, 0], [12, 0], [13, 0], [14, 0], [15, 0], [16, 0], [2, 1], [3, 1], [7, 1], [12, 1], [13, 1], [14, 1], [15, 1], [17, 1], [3, 2], [7, 2], [8, 2], [18, 2], [12, 2], [19, 2], [20, 2], [21, 2], [7, 3], [11, 3], [12, 3], [6, 4], [9, 4], [6, 5], [9, 5], [22, 5], [22, 6], [17, 8], [21, 8], [23, 8], [23, 18], [23, 12], [21, 24], [23, 24], [21, 25], [23, 25], [21, 26], [23, 26], [23, 14], [21, 27], [23, 27], [21, 28], [23, 28], [30, 29], [19, 29], [31, 29], [21, 29], [23, 29], [30, 32], [19, 32], [16, 32], [16, 30], [31, 33], [23, 33], [23, 19], [16, 20], [23, 20], [21, 31], [23, 31], [21, 17], [23, 17], [21, 16], [23, 16], [23, 21]]\n"
     ]
    }
   ],
   "source": [
    "n, n_A, m=read_pairs_file(\"karate.pairs\")\n",
    "n_A = mat\n",
    "#node_list, group_list = initial_grouping(n,2)\n",
    "k = degree_matrix(mat)\n",
    "s = partition_matrix(a)"
   ]
  },
  {
   "cell_type": "code",
   "execution_count": 88,
   "metadata": {},
   "outputs": [
    {
     "data": {
      "text/plain": [
       "0.37146614069691"
      ]
     },
     "execution_count": 88,
     "metadata": {},
     "output_type": "execute_result"
    }
   ],
   "source": [
    "\n",
    "\n",
    "mod_matrix = modularity_mat(n_A, k, m )\n",
    "aa = (s*mod_matrix*s.transpose()).diagonal().sum()\n",
    "aa/(2*m)"
   ]
  },
  {
   "cell_type": "code",
   "execution_count": 89,
   "metadata": {},
   "outputs": [
    {
     "data": {
      "text/plain": [
       "0.37146614069690986"
      ]
     },
     "execution_count": 89,
     "metadata": {},
     "output_type": "execute_result"
    }
   ],
   "source": [
    "get_modularity(n_A, s, k, m)"
   ]
  },
  {
   "cell_type": "code",
   "execution_count": 54,
   "metadata": {},
   "outputs": [
    {
     "data": {
      "text/plain": [
       "matrix([[16.],\n",
       "        [ 9.],\n",
       "        [10.],\n",
       "        [ 6.],\n",
       "        [ 3.],\n",
       "        [ 4.],\n",
       "        [ 4.],\n",
       "        [ 4.],\n",
       "        [ 5.],\n",
       "        [ 3.],\n",
       "        [ 1.],\n",
       "        [ 2.],\n",
       "        [ 5.],\n",
       "        [ 2.],\n",
       "        [ 3.],\n",
       "        [ 2.],\n",
       "        [ 6.],\n",
       "        [ 4.],\n",
       "        [ 2.],\n",
       "        [ 4.],\n",
       "        [ 3.],\n",
       "        [12.],\n",
       "        [ 2.],\n",
       "        [17.],\n",
       "        [ 2.],\n",
       "        [ 2.],\n",
       "        [ 2.],\n",
       "        [ 2.],\n",
       "        [ 2.],\n",
       "        [ 5.],\n",
       "        [ 3.],\n",
       "        [ 4.],\n",
       "        [ 3.],\n",
       "        [ 2.]])"
      ]
     },
     "execution_count": 54,
     "metadata": {},
     "output_type": "execute_result"
    }
   ],
   "source": [
    "k"
   ]
  },
  {
   "cell_type": "code",
   "execution_count": 6,
   "metadata": {},
   "outputs": [],
   "source": [
    "def read_pairs_file(pairfile) :\n",
    "    \n",
    "    file = open(pairfile, \"r\")\n",
    "    \n",
    "    edges = []\n",
    "    weights = []\n",
    "    \n",
    "    for line in file :\n",
    "        nodes = line.split()\n",
    "        edges.append((nodes[0], nodes[1]))\n",
    "        \n",
    "        #weight\n",
    "        if len(nodes) == 3 :\n",
    "            weights.append(float(nodes[2]))\n",
    "        else :\n",
    "            weights.append(1.0)\n",
    "    file.close()\n",
    "    \n",
    "    pair_dict = {}\n",
    "    t_num = 0 \n",
    "    \n",
    "    for edge in edges :\n",
    "        if edge[0] not in pair_dict :\n",
    "            pair_dict[edge[0]] = t_num\n",
    "            t_num +=1\n",
    "        if edge[1] not in pair_dict :\n",
    "            pair_dict[edge[1]] = t_num\n",
    "            t_num +=1\n",
    "    \n",
    "    \n",
    "    adj =[]\n",
    "    \n",
    "    adj.extend([[pair_dict[edge[0]],pair_dict[edge[1]]] for edge in edges])\n",
    "    adj.extend([[pair_dict[edge[1]],pair_dict[edge[0]]] for edge in edges])\n",
    "    \n",
    "    print(adj)\n",
    "    adj = np.array(adj).transpose()\n",
    "    \n",
    "    weights.extend(weights)\n",
    "    w_mat = np.array(weights)\n",
    "    \n",
    "    n = t_num  # number of nodes\n",
    "    #print(n)\n",
    "    #print(w_mat)\n",
    "    #print(adj)\n",
    "    \n",
    "    A_mat = sp.csr_matrix((w_mat,adj), shape = (n,n))\n",
    "    \n",
    "    # number of nodes \n",
    "    n_A = A_mat\n",
    "    sumit  = A_mat.sum()\n",
    "    m = (sumit/2) # number of edge\n",
    "    return n,n_A ,m\n",
    "\n",
    "## we need network\n",
    "    "
   ]
  },
  {
   "cell_type": "code",
   "execution_count": 45,
   "metadata": {},
   "outputs": [],
   "source": [
    "def read_pairs_file2(pairfile) :\n",
    "    \n",
    "    file = open(pairfile, \"r\")\n",
    "    \n",
    "    edges = []\n",
    "    weights = []\n",
    "    \n",
    "    for line in file :\n",
    "        nodes = line.split()\n",
    "        edges.append((nodes[0], nodes[1]))\n",
    "        \n",
    "        #weight\n",
    "        if len(nodes) == 3 :\n",
    "            weights.append(float(nodes[2]))\n",
    "        else :\n",
    "            weights.append(1.0)\n",
    "    file.close()\n",
    "    \n",
    "    print(edges)\n",
    "    return edges"
   ]
  },
  {
   "cell_type": "code",
   "execution_count": 47,
   "metadata": {},
   "outputs": [
    {
     "name": "stdout",
     "output_type": "stream",
     "text": [
      "[('1', '2'), ('1', '3'), ('1', '4'), ('1', '5'), ('1', '6'), ('1', '7'), ('1', '8'), ('1', '9'), ('1', '11'), ('1', '12'), ('1', '13'), ('1', '14'), ('1', '18'), ('1', '20'), ('1', '22'), ('1', '32'), ('2', '3'), ('2', '4'), ('2', '8'), ('2', '14'), ('2', '18'), ('2', '20'), ('2', '22'), ('2', '31'), ('3', '4'), ('3', '8'), ('3', '9'), ('3', '10'), ('3', '14'), ('3', '28'), ('3', '29'), ('3', '33'), ('4', '8'), ('4', '13'), ('4', '14'), ('5', '7'), ('5', '11'), ('6', '7'), ('6', '11'), ('6', '17'), ('7', '17'), ('9', '31'), ('9', '33'), ('9', '34'), ('10', '34'), ('14', '34'), ('15', '33'), ('15', '34'), ('16', '33'), ('16', '34'), ('19', '33'), ('19', '34'), ('20', '34'), ('21', '33'), ('21', '34'), ('23', '33'), ('23', '34'), ('24', '26'), ('24', '28'), ('24', '30'), ('24', '33'), ('24', '34'), ('25', '26'), ('25', '28'), ('25', '32'), ('26', '32'), ('27', '30'), ('27', '34'), ('28', '34'), ('29', '32'), ('29', '34'), ('30', '33'), ('30', '34'), ('31', '33'), ('31', '34'), ('32', '33'), ('32', '34'), ('33', '34')]\n"
     ]
    }
   ],
   "source": [
    "edge_list = read_pairs_file2(\"karate.pairs\")"
   ]
  },
  {
   "cell_type": "code",
   "execution_count": 49,
   "metadata": {},
   "outputs": [],
   "source": [
    "import networkx as nx"
   ]
  },
  {
   "cell_type": "code",
   "execution_count": 51,
   "metadata": {},
   "outputs": [
    {
     "ename": "TypeError",
     "evalue": "unhashable type: 'csr_matrix'",
     "output_type": "error",
     "traceback": [
      "\u001b[0;31m---------------------------------------------------------------------------\u001b[0m",
      "\u001b[0;31mTypeError\u001b[0m                                 Traceback (most recent call last)",
      "\u001b[0;32m<ipython-input-51-b6d690642072>\u001b[0m in \u001b[0;36m<module>\u001b[0;34m\u001b[0m\n\u001b[0;32m----> 1\u001b[0;31m \u001b[0mA\u001b[0m \u001b[0;34m=\u001b[0m \u001b[0mnx\u001b[0m\u001b[0;34m.\u001b[0m\u001b[0mto_scipy_sparse_matrix\u001b[0m\u001b[0;34m(\u001b[0m\u001b[0mn_A\u001b[0m\u001b[0;34m)\u001b[0m\u001b[0;34m\u001b[0m\u001b[0;34m\u001b[0m\u001b[0m\n\u001b[0m",
      "\u001b[0;32m~/anaconda3/lib/python3.7/site-packages/networkx/convert_matrix.py\u001b[0m in \u001b[0;36mto_scipy_sparse_matrix\u001b[0;34m(G, nodelist, dtype, weight, format)\u001b[0m\n\u001b[1;32m    775\u001b[0m         \u001b[0;32mraise\u001b[0m \u001b[0mnx\u001b[0m\u001b[0;34m.\u001b[0m\u001b[0mNetworkXError\u001b[0m\u001b[0;34m(\u001b[0m\u001b[0;34m\"Graph has no nodes or edges\"\u001b[0m\u001b[0;34m)\u001b[0m\u001b[0;34m\u001b[0m\u001b[0;34m\u001b[0m\u001b[0m\n\u001b[1;32m    776\u001b[0m \u001b[0;34m\u001b[0m\u001b[0m\n\u001b[0;32m--> 777\u001b[0;31m     \u001b[0;32mif\u001b[0m \u001b[0mlen\u001b[0m\u001b[0;34m(\u001b[0m\u001b[0mnodelist\u001b[0m\u001b[0;34m)\u001b[0m \u001b[0;34m!=\u001b[0m \u001b[0mlen\u001b[0m\u001b[0;34m(\u001b[0m\u001b[0mset\u001b[0m\u001b[0;34m(\u001b[0m\u001b[0mnodelist\u001b[0m\u001b[0;34m)\u001b[0m\u001b[0;34m)\u001b[0m\u001b[0;34m:\u001b[0m\u001b[0;34m\u001b[0m\u001b[0;34m\u001b[0m\u001b[0m\n\u001b[0m\u001b[1;32m    778\u001b[0m         \u001b[0mmsg\u001b[0m \u001b[0;34m=\u001b[0m \u001b[0;34m\"Ambiguous ordering: `nodelist` contained duplicates.\"\u001b[0m\u001b[0;34m\u001b[0m\u001b[0;34m\u001b[0m\u001b[0m\n\u001b[1;32m    779\u001b[0m         \u001b[0;32mraise\u001b[0m \u001b[0mnx\u001b[0m\u001b[0;34m.\u001b[0m\u001b[0mNetworkXError\u001b[0m\u001b[0;34m(\u001b[0m\u001b[0mmsg\u001b[0m\u001b[0;34m)\u001b[0m\u001b[0;34m\u001b[0m\u001b[0;34m\u001b[0m\u001b[0m\n",
      "\u001b[0;31mTypeError\u001b[0m: unhashable type: 'csr_matrix'"
     ]
    }
   ],
   "source": [
    "A = nx.to_scipy_sparse_matrix(n_A)"
   ]
  },
  {
   "cell_type": "code",
   "execution_count": 60,
   "metadata": {},
   "outputs": [],
   "source": [
    "g = nx.read_gml('karate.gml',label = 'id')"
   ]
  },
  {
   "cell_type": "code",
   "execution_count": 61,
   "metadata": {},
   "outputs": [],
   "source": [
    "nx.write_edgelist(g, 'edgelist.txt', delimiter = ',')"
   ]
  },
  {
   "cell_type": "code",
   "execution_count": 62,
   "metadata": {},
   "outputs": [
    {
     "data": {
      "text/plain": [
       "matrix([[16.],\n",
       "        [ 9.],\n",
       "        [10.],\n",
       "        [ 6.],\n",
       "        [ 3.],\n",
       "        [ 4.],\n",
       "        [ 4.],\n",
       "        [ 4.],\n",
       "        [ 5.],\n",
       "        [ 3.],\n",
       "        [ 1.],\n",
       "        [ 2.],\n",
       "        [ 5.],\n",
       "        [ 2.],\n",
       "        [ 3.],\n",
       "        [ 2.],\n",
       "        [ 6.],\n",
       "        [ 4.],\n",
       "        [ 2.],\n",
       "        [ 4.],\n",
       "        [ 3.],\n",
       "        [12.],\n",
       "        [ 2.],\n",
       "        [17.],\n",
       "        [ 2.],\n",
       "        [ 2.],\n",
       "        [ 2.],\n",
       "        [ 2.],\n",
       "        [ 2.],\n",
       "        [ 5.],\n",
       "        [ 3.],\n",
       "        [ 4.],\n",
       "        [ 3.],\n",
       "        [ 2.]])"
      ]
     },
     "execution_count": 62,
     "metadata": {},
     "output_type": "execute_result"
    }
   ],
   "source": [
    "k"
   ]
  },
  {
   "cell_type": "code",
   "execution_count": 63,
   "metadata": {},
   "outputs": [
    {
     "name": "stdout",
     "output_type": "stream",
     "text": [
      "[[0, 1], [0, 2], [0, 3], [0, 4], [0, 5], [0, 6], [0, 7], [0, 8], [0, 9], [0, 10], [0, 11], [0, 12], [0, 13], [0, 14], [0, 15], [0, 16], [1, 2], [1, 3], [1, 7], [1, 12], [1, 13], [1, 14], [1, 15], [1, 17], [2, 3], [2, 7], [2, 8], [2, 18], [2, 12], [2, 19], [2, 20], [2, 21], [3, 7], [3, 11], [3, 12], [4, 6], [4, 9], [5, 6], [5, 9], [5, 22], [6, 22], [8, 17], [8, 21], [8, 23], [18, 23], [12, 23], [24, 21], [24, 23], [25, 21], [25, 23], [26, 21], [26, 23], [14, 23], [27, 21], [27, 23], [28, 21], [28, 23], [29, 30], [29, 19], [29, 31], [29, 21], [29, 23], [32, 30], [32, 19], [32, 16], [30, 16], [33, 31], [33, 23], [19, 23], [20, 16], [20, 23], [31, 21], [31, 23], [17, 21], [17, 23], [16, 21], [16, 23], [21, 23], [1, 0], [2, 0], [3, 0], [4, 0], [5, 0], [6, 0], [7, 0], [8, 0], [9, 0], [10, 0], [11, 0], [12, 0], [13, 0], [14, 0], [15, 0], [16, 0], [2, 1], [3, 1], [7, 1], [12, 1], [13, 1], [14, 1], [15, 1], [17, 1], [3, 2], [7, 2], [8, 2], [18, 2], [12, 2], [19, 2], [20, 2], [21, 2], [7, 3], [11, 3], [12, 3], [6, 4], [9, 4], [6, 5], [9, 5], [22, 5], [22, 6], [17, 8], [21, 8], [23, 8], [23, 18], [23, 12], [21, 24], [23, 24], [21, 25], [23, 25], [21, 26], [23, 26], [23, 14], [21, 27], [23, 27], [21, 28], [23, 28], [30, 29], [19, 29], [31, 29], [21, 29], [23, 29], [30, 32], [19, 32], [16, 32], [16, 30], [31, 33], [23, 33], [23, 19], [16, 20], [23, 20], [21, 31], [23, 31], [21, 17], [23, 17], [21, 16], [23, 16], [23, 21]]\n"
     ]
    }
   ],
   "source": [
    "n, n_A, m=read_pairs_file(\"karate.pairs\")"
   ]
  },
  {
   "cell_type": "code",
   "execution_count": 66,
   "metadata": {},
   "outputs": [
    {
     "data": {
      "text/plain": [
       "matrix([[16.],\n",
       "        [ 9.],\n",
       "        [10.],\n",
       "        [ 6.],\n",
       "        [ 3.],\n",
       "        [ 4.],\n",
       "        [ 4.],\n",
       "        [ 4.],\n",
       "        [ 5.],\n",
       "        [ 3.],\n",
       "        [ 1.],\n",
       "        [ 2.],\n",
       "        [ 5.],\n",
       "        [ 2.],\n",
       "        [ 3.],\n",
       "        [ 2.],\n",
       "        [ 6.],\n",
       "        [ 4.],\n",
       "        [ 2.],\n",
       "        [ 4.],\n",
       "        [ 3.],\n",
       "        [12.],\n",
       "        [ 2.],\n",
       "        [17.],\n",
       "        [ 2.],\n",
       "        [ 2.],\n",
       "        [ 2.],\n",
       "        [ 2.],\n",
       "        [ 2.],\n",
       "        [ 5.],\n",
       "        [ 3.],\n",
       "        [ 4.],\n",
       "        [ 3.],\n",
       "        [ 2.]])"
      ]
     },
     "execution_count": 66,
     "metadata": {},
     "output_type": "execute_result"
    }
   ],
   "source": [
    "n_A.sum(axis =1)"
   ]
  },
  {
   "cell_type": "code",
   "execution_count": 70,
   "metadata": {},
   "outputs": [],
   "source": [
    "  def create_from_matrix_file(filename):\n",
    "        \"\"\"Loads an undirected network from an .adj file.\"\"\"\n",
    "        \n",
    "        file = open(filename, \"r\")\n",
    "        first_row = file.readline().split()\n",
    "        \n",
    "        # Get the number of nodes\n",
    "        number_of_nodes = len(first_row)\n",
    "        \n",
    "        # Create the adjacency matrix\n",
    "        matrix = sp.lil_matrix((number_of_nodes,number_of_nodes))\n",
    "        \n",
    "        # Fill in entries in first row\n",
    "        for j in range(0, len(first_row)):\n",
    "            weight = float(first_row[j])\n",
    "            if weight > 0:\n",
    "                matrix[0,j] = weight\n",
    "        \n",
    "        # Fill in the entries for the remaining rows\n",
    "        i = 1\n",
    "        for line in file:\n",
    "            row = line.split()\n",
    "            for j in range(0,len(row)):\n",
    "                weight = float(row[j])\n",
    "                if weight > 0:\n",
    "                    matrix[i,j] = weight\n",
    "            i = i + 1\n",
    "            \n",
    "        # since it is an undirected network, we should\n",
    "        # symmetrize the matrix. If already symmetric, \n",
    "        # this will do nothing.\n",
    "        matrix = (matrix + matrix.T)/2    \n",
    "        \n",
    "        file.close()\n",
    "\n",
    "        return matrix\n",
    "    "
   ]
  },
  {
   "cell_type": "code",
   "execution_count": 72,
   "metadata": {},
   "outputs": [],
   "source": [
    "mat = create_from_matrix_file('karate.txt')"
   ]
  },
  {
   "cell_type": "code",
   "execution_count": 75,
   "metadata": {},
   "outputs": [
    {
     "data": {
      "text/plain": [
       "matrix([[16.],\n",
       "        [ 9.],\n",
       "        [10.],\n",
       "        [ 6.],\n",
       "        [ 3.],\n",
       "        [ 4.],\n",
       "        [ 4.],\n",
       "        [ 4.],\n",
       "        [ 5.],\n",
       "        [ 2.],\n",
       "        [ 3.],\n",
       "        [ 1.],\n",
       "        [ 2.],\n",
       "        [ 5.],\n",
       "        [ 2.],\n",
       "        [ 2.],\n",
       "        [ 2.],\n",
       "        [ 2.],\n",
       "        [ 2.],\n",
       "        [ 3.],\n",
       "        [ 2.],\n",
       "        [ 2.],\n",
       "        [ 2.],\n",
       "        [ 5.],\n",
       "        [ 3.],\n",
       "        [ 3.],\n",
       "        [ 2.],\n",
       "        [ 4.],\n",
       "        [ 3.],\n",
       "        [ 4.],\n",
       "        [ 4.],\n",
       "        [ 6.],\n",
       "        [12.],\n",
       "        [17.]])"
      ]
     },
     "execution_count": 75,
     "metadata": {},
     "output_type": "execute_result"
    }
   ],
   "source": [
    "mat.sum(axis=1)"
   ]
  },
  {
   "cell_type": "code",
   "execution_count": null,
   "metadata": {},
   "outputs": [],
   "source": []
  }
 ],
 "metadata": {
  "kernelspec": {
   "display_name": "Python 3",
   "language": "python",
   "name": "python3"
  },
  "language_info": {
   "codemirror_mode": {
    "name": "ipython",
    "version": 3
   },
   "file_extension": ".py",
   "mimetype": "text/x-python",
   "name": "python",
   "nbconvert_exporter": "python",
   "pygments_lexer": "ipython3",
   "version": "3.7.3"
  }
 },
 "nbformat": 4,
 "nbformat_minor": 4
}
