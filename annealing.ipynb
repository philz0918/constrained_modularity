{
 "cells": [
  {
   "cell_type": "code",
   "execution_count": 1,
   "metadata": {},
   "outputs": [],
   "source": [
    "## read the file (.pairs)"
   ]
  },
  {
   "cell_type": "code",
   "execution_count": 2,
   "metadata": {},
   "outputs": [],
   "source": [
    "import numpy.random as random\n",
    "import numpy as np\n",
    "import math\n",
    "import networkx as nx\n",
    "from scipy import sparse as sp\n",
    "import random"
   ]
  },
  {
   "cell_type": "code",
   "execution_count": 30,
   "metadata": {},
   "outputs": [],
   "source": [
    "ntwk = nx.read_gml('sourcefile/karate.gml', 'id')\n",
    "n_A = nx.adjacency_matrix(ntwk)"
   ]
  },
  {
   "cell_type": "code",
   "execution_count": 31,
   "metadata": {
    "tags": []
   },
   "outputs": [
    {
     "output_type": "stream",
     "name": "stdout",
     "text": "[[0 1 1 ... 1 0 0]\n [1 0 1 ... 0 0 0]\n [1 1 0 ... 0 1 0]\n ...\n [1 0 0 ... 0 1 1]\n [0 0 1 ... 1 0 1]\n [0 0 0 ... 1 1 0]]\n"
    }
   ],
   "source": [
    "print(n_A.toarray())"
   ]
  },
  {
   "cell_type": "code",
   "execution_count": 57,
   "metadata": {},
   "outputs": [],
   "source": [
    "#n is number of elements, cn, constrainumber\n",
    "def initial_grouping(n, cn):\n",
    "\n",
    "    #get list of nodes\n",
    "    nodes = [node for node in range(0,n)]\n",
    "    \n",
    "    #assign group number to each nodes\n",
    "    group_assign = [random.randrange(0,cn) for g_num in range(len(nodes))]\n",
    "    \n",
    "    return nodes, group_assign\n",
    "\n",
    "#partition is group-assigned list\n",
    "def partition_matrix(partition) :\n",
    "    n = len(partition)\n",
    "    data= np.ones(n)\n",
    "    #print(data)\n",
    "    ij = np.array([partition, list(range(0,n))])\n",
    "    #print(ij)\n",
    "    grouping_matrix = sp.csr_matrix((data,ij))\n",
    "    return grouping_matrix\n",
    "\n",
    "# s = partition matrix, k = degree matrix , m = number of edge \n",
    "\n",
    "#generating degree matrix \n",
    "def degree_matrix(adj) :\n",
    "    d_mat = n_A.sum(axis=1)\n",
    "    return d_mat\n",
    "\n",
    "\n",
    "def modularity_mat(adj, k, m ):\n",
    "    \n",
    "    null_model  = np.dot(k,k.transpose())/(2*m)\n",
    "    m_m= (adj - null_model)\n",
    "    \n",
    "    return m_m\n",
    "\n",
    "#calculate modularity\n",
    "def get_modularity(adj, s, k, m):\n",
    "    \n",
    "    # formula modularity = (Adj * p_matrix - (d_matrix)^2 * p_matrix/2m) / 2m \n",
    "    #adj_partition  = (s* adj *s.transpose()).diagonal().sum()\n",
    "    #deg_par = np.array(s*k)\n",
    "    #degree_partition = np.square(deg_par).sum()/(2*m) \n",
    "    #modularity\n",
    "    #Q = (adj_partition - degree_partition) /(2*m)\n",
    "    \n",
    "    mod_matrix = modularity_mat(adj, k, m )\n",
    "    modul = (s*mod_matrix*s.transpose()).diagonal().sum()\n",
    "    Q = modul/(2*m)\n",
    "    \n",
    "    return Q\n",
    "\n",
    "def patching(group_list, cn) :\n",
    "    \n",
    "    n_nodes =len(group_list)\n",
    "    #cn is constrained number of groups\n",
    "    n_groups = cn\n",
    "    #get index and value that want to change\n",
    "    \n",
    "    idx = random.choice([x for x in range(0, n_nodes)])\n",
    "    val = group_list[idx]\n",
    "    \n",
    "    # choice here needs reworking - ??\n",
    "    # calculate change in modularity if we do switch groups\n",
    "    # if its bad, don't do it - ??\n",
    "    n_val = random.choice([y for y in range(0, n_groups) if y != val])\n",
    "    \n",
    "    group_list[idx] = n_val\n",
    "    patched_group = group_list\n",
    "    \n",
    "    return patched_group\n",
    "\n",
    "\n",
    "\n",
    "def annealing_simulating(G, initial_temp, adj,n, cn,  s, k, m, cooling_constant, iteration) :\n",
    "    G = G\n",
    "    svg_group_list = []\n",
    "    modul_list = []\n",
    "    old_Q = None\n",
    "    group_list = None\n",
    "    for i in range(iteration) :\n",
    "        \n",
    "        temp = new_temp(cooling_constant, initial_temp, i)\n",
    "        acceptance = False \n",
    "        num_rejection = -1\n",
    "        #n numberof nodes, cn constrained number of groups\n",
    "        rej_threshold = cal_rej_thres(n,cn)\n",
    "        #print(rej_threshold)\n",
    "        \n",
    "        while acceptance is False :\n",
    "            \n",
    "            num_rejection +=1\n",
    "            #print(old_Q)\n",
    "            \n",
    "            #when the very first\n",
    "            if old_Q is None :\n",
    "                node_list , group_list = initial_grouping(n,cn)\n",
    "                s = partition_matrix(group_list)\n",
    "                old_Q = get_modularity(adj, s, k, m)\n",
    "                \n",
    "            \n",
    "            # patching new grouping list\n",
    "            new_grouping = patching(group_list, cn)\n",
    "            #print(new_grouping)\n",
    "            \n",
    "            # new grouping matrix\n",
    "            new_s = partition_matrix(new_grouping)\n",
    "            \n",
    "            # new modularity with new grouping matrix\n",
    "            comm_0 = [x+1 for x, y in enumerate(new_grouping) if y == 0]\n",
    "            comm_1 = [x+1 for x, y in enumerate(new_grouping) if y == 1]\n",
    "            new_Q = nx.community.modularity(G, [set(comm_0), set(comm_1)])\n",
    "\n",
    "            #new_Q = get_modularity(adj,new_s,k,m)\n",
    "            #print(new_Q)\n",
    "            \n",
    "            acceptance = check_acceptance(old_Q, new_Q, temp)\n",
    "            \n",
    "            #print(acceptance)\n",
    "            #print(num_rejection)\n",
    "            if num_rejection > rej_threshold:\n",
    "                break\n",
    "            \n",
    "            \n",
    "            if acceptance is True :\n",
    "                \n",
    "                #if new_grouping in svg_group_list :\n",
    "                    #acceptance = False\n",
    "                #else :\n",
    "                svg_group_list.append(new_grouping)\n",
    "                modul_list.append(new_Q)\n",
    "                print(modul_list[-1])\n",
    "                old_Q = new_Q\n",
    "                # accepted grouping would be old grouping and update group based on this grouping \n",
    "                group_list = new_grouping\n",
    "                \n",
    "    opt = max(modul_list)\n",
    "    idx_opt = modul_list.index(opt)\n",
    "    \n",
    "    opt_group = svg_group_list[idx_opt]\n",
    "    \n",
    "    opt_grouping = svg_format(opt_group) \n",
    "    opt_Q = opt\n",
    "    \n",
    "    return opt_grouping, opt_Q, svg_group_list, modul_list\n",
    "            \n",
    "\n",
    "\n",
    "# get updated temperature\n",
    "def new_temp(cooling_constant, prev_temp, times) :\n",
    "    new_temp = (math.pow(cooling_constant,times)) * prev_temp\n",
    "    return new_temp \n",
    "\n",
    "# check acceptance between old groups and new groups\n",
    "def check_acceptance(modul_old, modul_new  , temp) :\n",
    "    if modul_new > modul_old :\n",
    "        return True\n",
    "    else :\n",
    "        new_accept = math.exp((modul_new - modul_old) * temp)\n",
    "        #modul_new- modul_old is negative value\n",
    "        # when temp is higher , new_accept is getting smaller \n",
    "    return (np.random.random_sample() < new_accept)  #get true or false\n",
    "\n",
    "\n",
    "\n",
    "#calculate rejection threshold \n",
    "\n",
    "def cal_rej_thres(n, nc):\n",
    "    \n",
    "    num_pathing = n*nc\n",
    "    \n",
    "    num_of_moves = num_pathing\n",
    "    \n",
    "    confi = 1 - math.log(0.05)/math.log(num_of_moves)\n",
    "    \n",
    "    return confi *num_of_moves * math.log(num_of_moves)\n",
    "\n",
    "#saving format for check group easily \n",
    "\n",
    "def svg_format(group_list):\n",
    "    fin_set ={}\n",
    "    for idx, gnum in enumerate(group_list):\n",
    "        if gnum in fin_set :\n",
    "            fin_set[gnum].append(idx)\n",
    "        else :\n",
    "            fin_set[gnum] =[idx]\n",
    "    return fin_set\n",
    "\n"
   ]
  },
  {
   "cell_type": "markdown",
   "metadata": {},
   "source": [
    "## Simulated Annealing for modularity optimization (Operating code)"
   ]
  },
  {
   "cell_type": "markdown",
   "metadata": {},
   "source": [
    "### I) Setup"
   ]
  },
  {
   "cell_type": "code",
   "execution_count": 58,
   "metadata": {
    "tags": []
   },
   "outputs": [],
   "source": [
    "G = nx.read_gml('sourcefile/karate.gml', 'id')\n",
    "n_A = nx.adjacency_matrix(G).toarray()\n",
    "n = G.number_of_nodes()\n",
    "m = sum([x[1] for x in G.degree()])\n",
    "k = degree_matrix(n_A)\n",
    "cn = 2\n",
    "s = partition_matrix(initial_grouping(n, cn)[1])"
   ]
  },
  {
   "cell_type": "code",
   "execution_count": 59,
   "metadata": {
    "tags": []
   },
   "outputs": [
    {
     "output_type": "stream",
     "name": "stdout",
     "text": "[1, 2, 3, 4, 5, 6, 7, 8, 9, 10, 11, 12, 13, 14, 15, 16, 17, 18, 19, 20, 21, 22, 23, 24, 25, 26, 27, 28, 29, 30, 31, 32, 33, 34]\n"
    }
   ],
   "source": [
    "print(G.nodes())"
   ]
  },
  {
   "cell_type": "code",
   "execution_count": 62,
   "metadata": {
    "tags": []
   },
   "outputs": [
    {
     "output_type": "stream",
     "name": "stdout",
     "text": "0.06311637080867892\n0.06632149901380711\n0.047255095332018784\n0.043063773833004866\n0.06311637080867878\n0.08407297830374791\n0.07881328073635804\n0.10971400394477361\n0.07486850756081562\n0.07684089414858683\n0.14981919789612091\n0.1291913214990141\n0.06311637080867867\n0.04240631163708102\n0.0472550953320185\n0.055884286653517565\n0.09853714661407029\n0.06377383300460264\n0.06278763971071705\n0.025558842866535272\n-0.012820512820512681\n-0.014135437212360184\n-8.218277449041883e-05\n-0.0007396449704141745\n-0.04372123602892808\n-0.04142011834319504\n-0.025723208415515855\n-0.0007396449704140151\n-0.10264628533859288\n-0.03558514135437184\n-0.00665680473372768\n-0.015779092702169473\n-0.014135437212360175\n-0.025723208415515907\n-0.004026955950032765\n-0.0066568047337276825\n0.02161406969099284\n-0.0020545693622616157\n0.0018902038132807965\n-0.018491124260354895\n-0.023750821827744736\n-0.010601577909270054\n-0.017094017094016832\n-0.028928336620644028\n-0.04569362261669923\n-0.061143984220906916\n-0.03550295857988132\n-0.02596975673898725\n-0.03090072320841527\n-0.016765285996054997\n-0.03090072320841527\n-0.06122616699539739\n-0.048076923076922684\n-0.06385601577909228\n-0.1131656804733725\n-0.09072978303747502\n-0.08752465483234674\n-0.07133464825772483\n-0.12064431295200496\n-0.10157790927021652\n-0.07725180802103832\n-0.07823800131492394\n-0.07503287310979576\n-0.09401709401709345\n-0.05456936226166965\n-0.05029585798816533\n-0.02638067061143968\n-0.0257232084155159\n-0.001314924391847146\n0.005588428665352077\n0.0018902038132810883\n0.005588428665352077\n0.007149901380670891\n0.021614069690993075\n0.05908941485864601\n-0.002054569362261553\n0.013067061143984381\n-0.045693622616699306\n-0.06114398422090691\n-0.051610782380012744\n-0.045693622616699306\n-0.06114398422090709\n-0.06385601577909254\n-0.06114398422090711\n-0.03427021696252459\n-0.01849112426035498\n-0.021038790269559453\n-0.013149243918474652\n0.005588428665351749\n0.011834319526627255\n-0.008875739644970397\n-0.001314924391847454\n0.0055884286653517835\n-0.008875739644970383\n0.012820512820512905\n0.01249178172255101\n0.02161406969099292\n0.009861932938856162\n0.05226824457593708\n-0.017833662064431047\n-0.003287310979618541\n0.005588428665351781\n0.024326101249178295\n0.042406311637081126\n0.021614069690992797\n-0.004026955950032731\n-0.013888888888888742\n-0.04939184746877011\n-0.02638067061143952\n0.032790927021696614\n0.04133793556870506\n0.03739316239316264\n-0.009944115713346463\n-0.018491124260355003\n-0.013888888888888885\n-0.02375082182774482\n-0.02375082182774473\n-0.016765285996055115\n-0.013149243918474555\n-0.004273504273504058\n0.018408941485864746\n0.018408941485864746\n0.05908941485864604\n0.049227481919790025\n0.05908941485864604\n0.06829388560157822\n0.078813280736358\n-0.006656804733727797\n-0.013806706114398319\n-0.020052596975673673\n-0.017094017094016974\n-0.008875739644970397\n0.008547008547008572\n0.008547008547008572\n-0.05456936226166965\n-0.06541748849441131\n-0.051364234056541405\n-0.05202169625246528\n-0.015779092702169536\n-0.029667981591058372\n-0.000739644970414185\n0.012491781722550974\n0.021614069690992877\n0.023586456278764115\n-8.218277449019659e-05\n-8.218277449024998e-05\n-0.014135437212360056\n-0.018080210387902394\n-0.014135437212360056\n-0.013149243918474489\n-0.0020545693622615706\n0.024326101249178247\n0.007807363576594375\n0.02531229454306383\n0.031229454306377476\n0.02432610124917826\n0.00756081525312315\n0.030243261012492025\n0.01503944773175559\n0.015039447731755634\n0.011834319526627342\n0.0018902038132810755\n-0.0003287310979617207\n-0.0013149243918472162\n0.021614069690993002\n0.027531229454306656\n0.011752136752136828\n-0.004026955950032842\n0.01249178172255102\n0.00756081525312299\n0.035502958579881845\n0.04462524654832371\n0.0371466140696912\n0.025558842866535272\n0.0371466140696912\n0.0075608152531229725\n0.004602235371466174\n0.033201840894148696\n0.009861932938856035\n0.037146614069691226\n0.025558842866535494\n-0.010601577909270039\n0.008547008547008685\n0.041420118343195485\n0.023586456278764184\n0.025312294543064086\n-0.016765285996055045\n0.005588428665351844\n-0.0003287310979618094\n0.024326101249178347\n0.033448389217620285\n-8.218277449045582e-05\n0.024901380670611716\n0.02161406969099311\n0.024901380670611716\n0.02161406969099312\n0.02490138067061182\n0.01183431952662726\n-0.015779092702169466\n0.004602235371466193\n-0.024654832347139777\n-0.02103879026955926\n-0.03952991452991428\n-0.018080210387902456\n-0.02103879026955924\n-0.0397764628533857\n-0.055309007232083936\n-0.05202169625246521\n-0.05333662064431267\n-0.05136423405654148\n-0.039776462853385666\n-0.05530900723208391\n-0.052021696252465215\n-0.051364234056541405\n-0.0387902695595001\n-0.013149243918474496\n-0.004026955950032723\n-0.013149243918474489\n0.0075608152531229725\n-0.025969756738987354\n-0.024654832347139867\n-0.018491124260354926\n-0.023750821827744698\n-0.039776462853385715\n-0.0296679815910582\n0.011505588428665546\n0.02161406969099292\n0.026627218934911386\n0.04996712689020429\n0.003205128205128511\n-0.023750821827744777\n0.003205128205128511\n0.03320184089414893\n0.023586456278764305\n0.033201840894148946\n-0.06443129520052583\n-0.039776462853385756\n-0.06443129520052583\n-0.06122616699539759\n-0.1065910585141354\n-0.12039776462853373\n-0.12261669953977632\n-0.10067389875082153\n-0.08579881656804703\n-0.09697567389875052\n-0.04667981591058497\n-0.024654832347139884\n-0.04667981591058495\n-0.029667981591058466\n-0.025723208415516043\n-0.027695595003287252\n-0.02465483234713985\n-0.008875739644970255\n0.005588428665351904\n0.027531229454306576\n-0.0032873109796186482\n-0.004026955950032805\n0.001890203813280773\n0.007149901380670674\n0.017011834319526787\n-8.218277449036821e-05\n0.03846153846153876\n0.05119986850756092\n0.03813280736357676\n0.06278763971071684\n0.06377383300460242\n0.04725509533201862\n0.05054240631163726\n0.06410256410256437\n0.0637738330046025\n0.06278763971071694\n0.047255095332018694\n0.05054240631163737\n0.04922748191978988\n0.018984220907297965\n0.026627218934911438\n-0.012820512820512761\n0.011505588428665536\n0.03550295857988191\n0.05843195266272222\n0.01742274819197909\n0.011834319526627281\n0.022353714661407134\n0.0046022353714662316\n0.0009861932938856665\n-0.015779092702169477\n-0.0099441157133463\n-0.02966798159105827\n-0.024654832347139964\n-0.03558514135437187\n-0.024654832347139964\n-0.04413214990138046\n-0.010601577909270103\n-0.0394477317554237\n-0.02005259697567363\n-0.017833662064431183\n-0.025969756738987385\n0.015696909927679355\n-0.006656804733727766\n-0.014135437212360193\n0.017422748191979042\n-8.21827744904359e-05\n0.024901380670611543\n0.04922748191978977\n0.07289612097304438\n0.08448389217620024\n0.0867850098619333\n0.0558842866535176\n0.07790927021696278\n0.07363576594345855\n0.07289612097304433\n0.10248191978961256\n0.15310650887574012\n0.1531065088757402\n0.15179158448389232\n0.08842866535174274\n0.08842866535174274\n0.03739316239316255\n0.028846153846154358\n0.022353714661407394\n0.03517422748192021\n0.041337935568705256\n0.03320184089414902\n0.007560815253123212\n-0.008629191321498699\n-8.218277449022368e-05\n-0.007232084155160999\n-0.003944773175542206\n-0.016107823800131364\n0.0088757396449705\n-0.006656804733727671\n0.0009861932938857552\n0.03024326101249197\n0.04725509533201862\n0.061143984220907464\n0.06114398422090748\n0.037393162393162524\n0.03279092702169647\n0.04133793556870504\n0.04462524654832363\n0.050953320184089594\n0.07684089414858689\n0.06114398422090771\n0.06114398422090771\n0.051199868507561204\n0.07618343195266314\n0.06697896120973079\n0.060815253122945626\n-0.016765285996055024\n-0.03550295857988145\n-0.050295857988165514\n-0.029667981591058386\n-0.035585141354371984\n-0.04142011834319506\n-0.06911571334648212\n-0.0513642340565413\n-0.05333662064431242\n-0.04347468770545666\n-0.053336620644312466\n-0.04347468770545666\n-0.05161078238001286\n-0.008875739644970303\n0.007807363576594407\n0.03870808678500997\n0.025312294543063843\n0.031229454306377465\n0.05095332018408962\n0.06434911242603593\n0.03122945430637744\n0.015696909927679265\n-0.012573964497041306\n-0.009944115713346382\n0.013067061143984269\n0.0078073635765945485\n0.004602235371466337\n0.018984220907297983\n0.021614069690992894\n0.011505588428665416\n0.012820512820512917\n0.01249178172255104\n0.06377383300460243\n0.024901380670611664\n0.05119986850756103\n0.05119986850756103\n0.05119986850756103\n0.04922748191978986\n0.07684089414858675\n0.1182610124917816\n0.06706114398422121\n0.04799474030243279\n0.05054240631163724\n0.04922748191978977\n0.0505424063116373\n0.07486850756081548\n0.06697896120973076\n0.07026627218934936\n0.08678500986193326\n0.08448389217620023\n0.07486850756081558\n0.04725509533201874\n0.055884286653517676\n0.058842866535174565\n0.06278763971071699\n0.08678500986193331\n0.06410256410256435\n0.0637738330046025\n0.06410256410256432\n0.06377383300460245\n0.06410256410256432\n0.12154832347140047\n0.11242603550295875\n0.11406969099276794\n0.11012491781722553\n0.08152531229454335\n0.1193293885601575\n0.10716633793556894\n0.10355029585798839\n0.037475345167653086\n0.03739316239316263\n0.052268244575937255\n0.06870479947403069\n0.06278763971071695\n0.01569690992767922\n0.005588428665351894\n0.01503944773175554\n0.021614069690992853\n0.024326101249178292\n0.10716633793556887\n0.0985371466140698\n0.08842866535174232\n0.0728961209730445\n0.09196252465483284\n0.09393491124260415\n0.11037146614069757\n0.07486850756081573\n0.06697896120973096\n0.08251150558842901\n0.08875739644970465\n0.06434911242603569\n0.0663214990138071\n0.0728961209730444\n0.07684089414858683\n0.062787639710717\n0.07684089414858683\n0.08473044049967164\n0.13009533201840928\n0.18047337278106473\n0.15483234714003916\n0.12746548323471404\n0.11406969099276791\n0.10182445759368836\n0.10050953320184129\n0.0985371466140701\n0.07026627218934958\n0.06697896120973088\n0.08152531229454323\n0.08251150558842875\n0.07659434582511497\n0.08473044049967114\n0.04725509533201885\n0.07881328073635781\n0.08867521367521353\n0.07684089414858676\n0.08941485864562819\n0.08941485864562819\n0.11431623931623967\n0.13535502958579917\n0.13535502958579917\n0.1695430637738335\n0.21761998685075506\n0.20611439842209048\n0.2274819197896119\n0.2432610124917811\n0.24063116370808552\n0.22871466140696833\n0.21794871794871726\n0.2432610124917813\n0.24227481919789584\n0.2543556870479945\n0.27802432610124894\n0.27999671268901904\n"
    }
   ],
   "source": [
    "opt_grouping, opt_Q, saving_group, modul_list = annealing_simulating(G, initial_temp = 40, adj = n_A,n =n, cn=2,  s =s, k =k,m= m, cooling_constant = 1.0015,  iteration =1000) "
   ]
  },
  {
   "cell_type": "code",
   "execution_count": 63,
   "metadata": {},
   "outputs": [
    {
     "output_type": "execute_result",
     "data": {
      "text/plain": "{1: [0, 1, 2, 3, 4, 6, 10, 11, 15, 17, 19, 22, 24, 26, 28, 29, 30],\n 0: [5, 7, 8, 9, 12, 13, 14, 16, 18, 20, 21, 23, 25, 27, 31, 32, 33]}"
     },
     "metadata": {},
     "execution_count": 63
    }
   ],
   "source": [
    "opt_grouping\n",
    "#a = [0,0,0,0,0,0,0,0,0,0,0,0,0,0,1,1,0,0,1,0,1,0,1,1,1,1,1,1,1,1,1,1,1,1]\n",
    "#{0:0,1,2,3,4,5,6,7,8,9,10,11,12,13,16,17,19,21\n",
    "# 1:14,15,16,20,22,23,24,25,26,27,28,29,30,31,32,33}"
   ]
  },
  {
   "cell_type": "markdown",
   "metadata": {},
   "source": [
    "## Simulated Annealing"
   ]
  },
  {
   "cell_type": "code",
   "execution_count": 16,
   "metadata": {},
   "outputs": [],
   "source": [
    "def annealing_simulating(initial_temp, adj,n, cn,  s, k, m, cooling_constant, iteration) :\n",
    "    \n",
    "    svg_group_list = []\n",
    "    modul_list = []\n",
    "    old_Q = None\n",
    "    group_list = None\n",
    "    for i in range(iteration) :\n",
    "        \n",
    "        temp = new_temp(cooling_constant, initial_temp, i)\n",
    "        acceptance = False \n",
    "        num_rejection = -1\n",
    "        #n numberof nodes, cn constrained number of groups\n",
    "        rej_threshold = cal_rej_thres(n,cn)\n",
    "        #print(rej_threshold)\n",
    "        \n",
    "        while acceptance is False :\n",
    "            \n",
    "            num_rejection +=1\n",
    "            #print(old_Q)\n",
    "            \n",
    "            #when the very first\n",
    "            if old_Q is None :\n",
    "                node_list , group_list = initial_grouping(n,cn)\n",
    "                s = partition_matrix(group_list)\n",
    "                old_Q = get_modularity(adj, s, k, m)\n",
    "                \n",
    "            \n",
    "            # patching new grouping list\n",
    "            new_grouping = patching(group_list, cn)\n",
    "            #print(new_grouping)\n",
    "            \n",
    "            # new grouping matrix\n",
    "            new_s = partition_matrix(new_grouping)\n",
    "            \n",
    "            # new modularity with new grouping matrix\n",
    "            new_Q = get_modularity(adj,new_s,k,m)\n",
    "            #print(new_Q)\n",
    "            \n",
    "            acceptance = check_acceptance(old_Q, new_Q, temp)\n",
    "            \n",
    "            #print(acceptance)\n",
    "            #print(num_rejection)\n",
    "            if num_rejection > rej_threshold:\n",
    "                break\n",
    "            \n",
    "            \n",
    "            if acceptance is True :\n",
    "                \n",
    "                #if new_grouping in svg_group_list :\n",
    "                    #acceptance = False\n",
    "                #else :\n",
    "                svg_group_list.append(new_grouping)\n",
    "                modul_list.append(new_Q)\n",
    "                #print(modul_list[-1])\n",
    "                old_Q = new_Q\n",
    "                group_list = new_grouping\n",
    "                \n",
    "    opt = max(modul_list)\n",
    "    idx_opt = modul_list.index(opt)\n",
    "    \n",
    "    opt_group = svg_group_list[idx_opt]\n",
    "    \n",
    "    opt_grouping = svg_format(opt_group) \n",
    "    opt_Q = opt\n",
    "    \n",
    "    return opt_grouping, opt_Q, svg_group_list, modul_list\n",
    "            \n",
    "        \n",
    "        "
   ]
  },
  {
   "cell_type": "markdown",
   "metadata": {},
   "source": [
    "## Getting modularity "
   ]
  },
  {
   "cell_type": "code",
   "execution_count": 17,
   "metadata": {},
   "outputs": [
    {
     "output_type": "error",
     "ename": "NameError",
     "evalue": "name 'sumit' is not defined",
     "traceback": [
      "\u001b[1;31m---------------------------------------------------------------------------\u001b[0m",
      "\u001b[1;31mNameError\u001b[0m                                 Traceback (most recent call last)",
      "\u001b[1;32m<ipython-input-17-5b57b5c0ce91>\u001b[0m in \u001b[0;36m<module>\u001b[1;34m\u001b[0m\n\u001b[0;32m      1\u001b[0m \u001b[1;31m# s = partition matrix, k = degree matrix , m = number of edge\u001b[0m\u001b[1;33m\u001b[0m\u001b[1;33m\u001b[0m\u001b[1;33m\u001b[0m\u001b[0m\n\u001b[1;32m----> 2\u001b[1;33m \u001b[0mm\u001b[0m \u001b[1;33m=\u001b[0m \u001b[1;33m(\u001b[0m\u001b[0msumit\u001b[0m\u001b[1;33m/\u001b[0m\u001b[1;36m2\u001b[0m\u001b[1;33m)\u001b[0m\u001b[1;33m\u001b[0m\u001b[1;33m\u001b[0m\u001b[0m\n\u001b[0m\u001b[0;32m      3\u001b[0m \u001b[1;33m\u001b[0m\u001b[0m\n\u001b[0;32m      4\u001b[0m \u001b[1;32mdef\u001b[0m \u001b[0mget_modularity\u001b[0m\u001b[1;33m(\u001b[0m\u001b[0madj\u001b[0m\u001b[1;33m,\u001b[0m \u001b[0ms\u001b[0m\u001b[1;33m,\u001b[0m \u001b[0mk\u001b[0m\u001b[1;33m,\u001b[0m \u001b[0mm\u001b[0m \u001b[1;33m)\u001b[0m\u001b[1;33m:\u001b[0m\u001b[1;33m\u001b[0m\u001b[1;33m\u001b[0m\u001b[0m\n\u001b[0;32m      5\u001b[0m \u001b[1;33m\u001b[0m\u001b[0m\n",
      "\u001b[1;31mNameError\u001b[0m: name 'sumit' is not defined"
     ]
    }
   ],
   "source": [
    "# s = partition matrix, k = degree matrix , m = number of edge \n",
    "m = (sumit/2)\n",
    "\n",
    "def get_modularity(adj, s, k, m ):\n",
    "    \n",
    "    # formula modularity = (Adj * p_matrix - (d_matrix)^2 * p_matrix/2m) / 2m \n",
    "    \n",
    "    adj_partition  = (s* adj *s.transpose()).diagonal().sum()\n",
    "    deg_par = np.array(s*k)\n",
    "    degree_partition = np.square(deg_par).sum()/(2*m) \n",
    "    \n",
    "    #modularity\n",
    "    Q = (adj_partition - degree_partition) /(2*m)\n",
    "    \n",
    "    return Q\n",
    "    "
   ]
  },
  {
   "cell_type": "markdown",
   "metadata": {},
   "source": [
    "## Degree matrix"
   ]
  },
  {
   "cell_type": "code",
   "execution_count": 18,
   "metadata": {},
   "outputs": [],
   "source": [
    "def degree_matrix(adj) :\n",
    "    d_mat = n_A.sum(axis=1)\n",
    "    return d_mat"
   ]
  },
  {
   "cell_type": "markdown",
   "metadata": {},
   "source": [
    "## Initial grouping"
   ]
  },
  {
   "cell_type": "code",
   "execution_count": 19,
   "metadata": {},
   "outputs": [],
   "source": [
    "#n is number of elements, cn, constrainumber\n",
    "def initial_grouping(n,cn):\n",
    "    \n",
    "    \n",
    "    #get list of nodes\n",
    "    nodes = [node for node in range(0,n)]\n",
    "    \n",
    "    #assign group number to each nodes\n",
    "    group_assign = [random.randrange(0,cn) for g_num in range(len(nodes))]\n",
    "    \n",
    "    return nodes, group_assign\n",
    "    "
   ]
  },
  {
   "cell_type": "markdown",
   "metadata": {},
   "source": [
    "## Getting S(Partition matrix) "
   ]
  },
  {
   "cell_type": "code",
   "execution_count": 20,
   "metadata": {},
   "outputs": [],
   "source": [
    "def partition_matrix(partition) :\n",
    "    print(partition)\n",
    "    n = len(partition)\n",
    "    data= np.ones(n)\n",
    "    print(data)\n",
    "    ij = np.array([partition, list(range(0,n))])\n",
    "    print(ij)\n",
    "    grouping_matrix = sp.csr_matrix((data,ij))\n",
    "    return grouping_matrix"
   ]
  },
  {
   "cell_type": "markdown",
   "metadata": {},
   "source": [
    "## Saving format for checking group easily"
   ]
  },
  {
   "cell_type": "code",
   "execution_count": 21,
   "metadata": {},
   "outputs": [],
   "source": [
    "def svg_format(group_list):\n",
    "    fin_set ={}\n",
    "    for idx, gnum in enumerate(group_list):\n",
    "        if gnum in fin_set :\n",
    "            fin_set[gnum].append(idx)\n",
    "        else :\n",
    "            fin_set[gnum] =[idx]\n",
    "    return fin_set"
   ]
  },
  {
   "cell_type": "markdown",
   "metadata": {},
   "source": [
    "## Pathcing the group move singe node into other groups"
   ]
  },
  {
   "cell_type": "code",
   "execution_count": 22,
   "metadata": {},
   "outputs": [],
   "source": [
    "def patching(group_list, cn) :\n",
    "    \n",
    "    n_nodes =len(group_list)\n",
    "    #cn is constrained number of groups\n",
    "    n_groups = cn\n",
    "    #get index and value that want to change\n",
    "    \n",
    "    idx = random.choice([x for x in range(0, n_nodes)])\n",
    "    val = group_list[idx]\n",
    "    \n",
    "    n_val = random.choice([y for y in range(0, n_groups) if y != val])\n",
    "    \n",
    "    group_list[idx] = n_val\n",
    "    patched_group = group_list\n",
    "    \n",
    "    return patched_group\n",
    "    "
   ]
  },
  {
   "cell_type": "code",
   "execution_count": null,
   "metadata": {},
   "outputs": [],
   "source": []
  }
 ],
 "metadata": {
  "kernelspec": {
   "display_name": "Python 3",
   "language": "python",
   "name": "python3"
  },
  "language_info": {
   "codemirror_mode": {
    "name": "ipython",
    "version": 3
   },
   "file_extension": ".py",
   "mimetype": "text/x-python",
   "name": "python",
   "nbconvert_exporter": "python",
   "pygments_lexer": "ipython3",
   "version": "3.7.4-final"
  }
 },
 "nbformat": 4,
 "nbformat_minor": 4
}